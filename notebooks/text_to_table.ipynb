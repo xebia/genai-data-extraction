{
 "cells": [
  {
   "cell_type": "code",
   "execution_count": 4,
   "metadata": {},
   "outputs": [],
   "source": [
    "import instructor\n",
    "import vertexai\n",
    "from vertexai.generative_models import GenerativeModel, Part\n",
    "from pydantic import BaseModel\n",
    "from IPython import display\n",
    "from typing import Literal\n",
    "import pandas as pd"
   ]
  },
  {
   "cell_type": "code",
   "execution_count": 5,
   "metadata": {},
   "outputs": [],
   "source": [
    "vertexai.init(location=\"europe-west4\")\n",
    "\n",
    "client = instructor.from_vertexai(\n",
    "    client=GenerativeModel(\"gemini-2.0-flash\"),\n",
    "    mode=instructor.Mode.VERTEXAI_TOOLS,\n",
    ")"
   ]
  },
  {
   "cell_type": "code",
   "execution_count": 6,
   "metadata": {},
   "outputs": [],
   "source": [
    "class AccidentVictim(BaseModel):\n",
    "    age: int\n",
    "    gender: str\n",
    "    occupation: str\n",
    "    injury: str\n",
    "    body_affected: Literal[\"ears\", \"eyes\", \"legs\", \"arms\", \"head\", \"shoulder\"]\n",
    "    category: Literal[\"accident\", \"crime\", \"natural_disaster\"]"
   ]
  },
  {
   "cell_type": "code",
   "execution_count": 22,
   "metadata": {},
   "outputs": [
    {
     "data": {
      "text/plain": [
       "0    A 30 year old man was injured in a car acciden...\n",
       "1    I was walking down the street when I saw a wom...\n",
       "2    An earthquake hit the city, causing a building...\n",
       "dtype: object"
      ]
     },
     "execution_count": 22,
     "metadata": {},
     "output_type": "execute_result"
    }
   ],
   "source": [
    "accident_descriptions = pd.Series(\n",
    "    [\n",
    "        (\n",
    "            \"A 30 year old man was injured in a car accident. He was driving his car when another car hit him from the side. \"\n",
    "            \"He was taken to the hospital with a broken leg. \"\n",
    "            \"The man works as a lawyer.\"\n",
    "        ),\n",
    "        (\n",
    "            \"I was walking down the street when I saw a woman fall off her bike. She was taken to the hospital with a broken arm. \"\n",
    "            \"She was wearing a helmet, so she didn't hit her head. \"\n",
    "            \"The accident happened on a busy street, so there were many witnesses. \"\n",
    "            \"To make a living she works as a surgeon.\"\n",
    "        ),\n",
    "        (\n",
    "            \"An earthquake hit the city, causing a building to collapse. \"\n",
    "            \"The building was a school, and many children were inside. \"\n",
    "            \"A child of 10 years old was injured in the accident. \"\n",
    "            \"The boy still went to school and was in the 5th grade. \"\n",
    "            \"He injured his shoulder. \"\n",
    "        )\n",
    "    ]\n",
    ")\n",
    "accident_descriptions"
   ]
  },
  {
   "cell_type": "code",
   "execution_count": 23,
   "metadata": {},
   "outputs": [
    {
     "data": {
      "text/plain": [
       "0    age=30 gender='male' occupation='lawyer' injur...\n",
       "1    age=30 gender='female' occupation='surgeon' in...\n",
       "2    age=10 gender='male' occupation='student' inju...\n",
       "dtype: object"
      ]
     },
     "execution_count": 23,
     "metadata": {},
     "output_type": "execute_result"
    }
   ],
   "source": [
    "def extract_accident_victim(accident_description: str) -> AccidentVictim:\n",
    "    return client.create(\n",
    "        messages=[\n",
    "            accident_description,\n",
    "        ],\n",
    "        response_model=AccidentVictim,\n",
    "    )\n",
    "\n",
    "accident_victims = accident_descriptions.apply(extract_accident_victim)\n",
    "accident_victims"
   ]
  },
  {
   "cell_type": "code",
   "execution_count": 24,
   "metadata": {},
   "outputs": [
    {
     "data": {
      "text/html": [
       "<div>\n",
       "<style scoped>\n",
       "    .dataframe tbody tr th:only-of-type {\n",
       "        vertical-align: middle;\n",
       "    }\n",
       "\n",
       "    .dataframe tbody tr th {\n",
       "        vertical-align: top;\n",
       "    }\n",
       "\n",
       "    .dataframe thead th {\n",
       "        text-align: right;\n",
       "    }\n",
       "</style>\n",
       "<table border=\"1\" class=\"dataframe\">\n",
       "  <thead>\n",
       "    <tr style=\"text-align: right;\">\n",
       "      <th></th>\n",
       "      <th>age</th>\n",
       "      <th>gender</th>\n",
       "      <th>occupation</th>\n",
       "      <th>injury</th>\n",
       "      <th>body_affected</th>\n",
       "      <th>category</th>\n",
       "    </tr>\n",
       "  </thead>\n",
       "  <tbody>\n",
       "    <tr>\n",
       "      <th>0</th>\n",
       "      <td>30</td>\n",
       "      <td>male</td>\n",
       "      <td>lawyer</td>\n",
       "      <td>broken leg</td>\n",
       "      <td>legs</td>\n",
       "      <td>accident</td>\n",
       "    </tr>\n",
       "    <tr>\n",
       "      <th>1</th>\n",
       "      <td>30</td>\n",
       "      <td>female</td>\n",
       "      <td>surgeon</td>\n",
       "      <td>broken arm</td>\n",
       "      <td>arms</td>\n",
       "      <td>accident</td>\n",
       "    </tr>\n",
       "    <tr>\n",
       "      <th>2</th>\n",
       "      <td>10</td>\n",
       "      <td>male</td>\n",
       "      <td>student</td>\n",
       "      <td>Shoulder dislocation</td>\n",
       "      <td>shoulder</td>\n",
       "      <td>natural_disaster</td>\n",
       "    </tr>\n",
       "  </tbody>\n",
       "</table>\n",
       "</div>"
      ],
      "text/plain": [
       "   age  gender occupation                injury body_affected  \\\n",
       "0   30    male     lawyer            broken leg          legs   \n",
       "1   30  female    surgeon            broken arm          arms   \n",
       "2   10    male    student  Shoulder dislocation      shoulder   \n",
       "\n",
       "           category  \n",
       "0          accident  \n",
       "1          accident  \n",
       "2  natural_disaster  "
      ]
     },
     "execution_count": 24,
     "metadata": {},
     "output_type": "execute_result"
    }
   ],
   "source": [
    "pd.DataFrame([victim.model_dump() for victim in accident_victims])"
   ]
  }
 ],
 "metadata": {
  "kernelspec": {
   "display_name": ".venv",
   "language": "python",
   "name": "python3"
  },
  "language_info": {
   "codemirror_mode": {
    "name": "ipython",
    "version": 3
   },
   "file_extension": ".py",
   "mimetype": "text/x-python",
   "name": "python",
   "nbconvert_exporter": "python",
   "pygments_lexer": "ipython3",
   "version": "3.13.1"
  }
 },
 "nbformat": 4,
 "nbformat_minor": 2
}
