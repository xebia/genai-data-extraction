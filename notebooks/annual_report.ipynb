{
 "cells": [
  {
   "cell_type": "code",
   "execution_count": 1,
   "metadata": {},
   "outputs": [],
   "source": [
    "from google import genai\n",
    "from google.genai import types\n",
    "from pydantic import BaseModel, Field\n",
    "import pandas as pd\n",
    "from pathlib import Path"
   ]
  },
  {
   "cell_type": "code",
   "execution_count": 2,
   "metadata": {},
   "outputs": [],
   "source": [
    "client = genai.Client(\n",
    "    vertexai=True,\n",
    "    location='europe-west4'\n",
    ")"
   ]
  },
  {
   "cell_type": "code",
   "execution_count": 3,
   "metadata": {},
   "outputs": [],
   "source": [
    "pdf_path = Path(\"../data/ad_annual-report_2024_interactive.pdf\")\n",
    "\n",
    "report = types.Part.from_bytes(\n",
    "    data=pdf_path.read_bytes(),\n",
    "    mime_type=\"application/pdf\",\n",
    ")"
   ]
  },
  {
   "cell_type": "code",
   "execution_count": 20,
   "metadata": {},
   "outputs": [],
   "source": [
    "prompt: str = \"\"\"\n",
    "Answer the following questions:\n",
    "\n",
    "0. What accounting standards or principles were applied in the preparation of these statements?\n",
    "1. Do these financial results include any extraordinary or one-time items?\n",
    "2. Could you specify the time frame these financial statements represent?\n",
    "3. Are there any transactions with related parties that are documented in the financial statements?\n",
    "4. Could you detail the principal elements of operating expenses and their classification?\n",
    "5. Have there been any alterations to accounting policies or practices since prior reporting periods?\n",
    "6. What process is used to determine and reveal major accounting estimates?\n",
    "7. What accounting and presentation methods are used for taxes in these financial statements?\n",
    "8. Are there any contractual commitments or obligations outlined in these statements?\n",
    "9. Could you describe the nature and extent of the audit or review procedures carried out on these statements?\n",
    "\n",
    "... using the attached annual statement PDF.\n",
    "\"\"\""
   ]
  },
  {
   "cell_type": "code",
   "execution_count": null,
   "metadata": {},
   "outputs": [
    {
     "data": {
      "text/plain": [
       "AuditAnswers(answers=[AuditAnswer(question='What accounting standards or principles were applied in the preparation of these statements?', answer='These financial statements have been prepared in accordance with International Financial Reporting Standards (IFRSs) as adopted by the EU and also comply with the financial reporting requirements included in Part 9 of Book 2 of the Dutch Civil Code.', sources=[AnswerSource(citation='These financial statements have been prepared in accordance with International Financial Reporting Standards (IFRSs) as adopted by the EU and also comply with the financial reporting requirements included in Part 9 of Book 2 of the Dutch Civil Code.', page=264)]), AuditAnswer(question='Do these financial results include any extraordinary or one-time items?', answer='The financial results do include unusual items, related to impairment, losses and restructuring charges.', sources=[AnswerSource(citation='This decrease resulted from unusual items, related to impairment, losses and restructuring charges, as described earlier in this section.', page=41)]), AuditAnswer(question='Could you specify the time frame these financial statements represent?', answer='The financial statements cover the 52-week period ending on December 29, 2024.', sources=[AnswerSource(citation='The financial year 2024 consisted of 52 weeks and ended on December 29, 2024.', page=264)]), AuditAnswer(question='Are there any transactions with related parties that are documented in the financial statements?', answer='Yes, Note 31 to the financial statements contains information on related party transactions.', sources=[AnswerSource(citation='For more details on the remuneration of the individual members of the Management Board, see the Remuneration report.', page=239), AnswerSource(citation='For a list of subsidiaries, joint ventures and associates, see Note 35 to the consolidated financial statements.', page=288)]), AuditAnswer(question='Could you detail the principal elements of operating expenses and their classification?', answer='The principal elements of operating expenses are specified by nature as follows: Cost of product, Labor costs, Other operational expenses, Depreciation and amortization, Rent expenses, Impairment losses and reversals – net, (Gains) losses on leases and the sale of assets - net.', sources=[AnswerSource(citation='The aggregate of cost of sales, selling expenses, and general and administrative expenses is specified by nature as follows: Cost of product, Labor costs, Other operational expenses, Depreciation and amortization, Rent expenses, Impairment losses and reversals – net, (Gains) losses on leases and the sale of assets - net', page=273)]), AuditAnswer(question='Have there been any alterations to accounting policies or practices since prior reporting periods?', answer=\"Yes, there have been some changes in accounting policies. The document mentions that comparative amounts have been restated to conform to the current year's presentation.\", sources=[AnswerSource(citation=\"Comparative amounts have been restated to conform to the current year's presentation (see Note 3).\", page=41)]), AuditAnswer(question='What process is used to determine and reveal major accounting estimates?', answer='The document indicates that preparing financial statements involves management making estimates and judgments that affect reported amounts. Specific notes in the financial statements detail the estimates and judgments used.', sources=[AnswerSource(citation='The preparation of financial statements requires management to make a number of estimates and assumptions that affect the reported amounts of assets and liabilities, revenues and expenses, and the disclosure of contingent assets and liabilities which, by definition, will seldom equal the actual results.', page=265)]), AuditAnswer(question='What accounting and presentation methods are used for taxes in these financial statements?', answer='The financial statements use the sum of current and deferred tax. Income tax is recognized in the income statement except to the extent that it relates to items recognized directly in equity or other comprehensive income. Current tax expense is based on the best estimate of taxable income for the year, using tax rates that have been enacted or substantively enacted at the balance sheet date and adjustments for current taxes payable (receivable) for prior years.', sources=[AnswerSource(citation='Income tax expense represents the sum of current and deferred tax. Income tax is recognized in the income statement except to the extent that it relates to items recognized directly in equity or other comprehensive income. Current tax expense is based on the best estimate of taxable income for the year, using tax rates that have been enacted or substantively enacted at the balance sheet date and adjustments for current taxes payable (receivable) for prior years.', page=275)]), AuditAnswer(question='Are there any contractual commitments or obligations outlined in these statements?', answer='Yes, there are contractual commitments and obligations outlined in the statements, including investment commitments and purchase commitments.', sources=[AnswerSource(citation='As of December 29, 2024, Ahold Delhaize had outstanding investment commitments for property, plant and equipment and investment property, and for intangible assets of approximately €454 million and €14 million, respectively (December 31, 2023: €412 million and €15 million, respectively).', page=324), AnswerSource(citation=\"As of December 29, 2024, the Company's purchase commitments were approximately €3.8 billion (December 31, 2023: €3.6 billion).\", page=324)]), AuditAnswer(question='Could you describe the nature and extent of the audit or review procedures carried out on these statements?', answer='The audit was performed with a high, but not absolute, level of assurance, which means we may not detect all material errors and fraud during our audit.', sources=[AnswerSource(citation='Our audit has been performed with a high, but not absolute, level of assurance, which means we may not detect all material errors and fraud during our audit.', page=339)])])"
      ]
     },
     "execution_count": 16,
     "metadata": {},
     "output_type": "execute_result"
    }
   ],
   "source": [
    "class AnswerSource(BaseModel):\n",
    "    citation: str = Field(description=\"A text citation of the answer in the source document.\")\n",
    "    page: int\n",
    "    \n",
    "\n",
    "class AuditAnswer(BaseModel):\n",
    "    question: str\n",
    "    answer: str | None\n",
    "    sources: list[AnswerSource]\n",
    "\n",
    "class AuditAnswers(BaseModel):\n",
    "    answers: list[AuditAnswer]\n",
    "\n",
    "\n",
    "\n",
    "response = client.models.generate_content(\n",
    "    model='gemini-2.0-flash-001',\n",
    "    contents=[\n",
    "        prompt,\n",
    "        report\n",
    "    ],\n",
    "    config=types.GenerateContentConfig(\n",
    "        temperature=0.2,\n",
    "        response_mime_type='application/json',\n",
    "        response_schema=AuditAnswers,\n",
    "    ),\n",
    ")\n",
    "audit_answers: AuditAnswers = response.parsed\n",
    "audit_answers"
   ]
  },
  {
   "cell_type": "code",
   "execution_count": 18,
   "metadata": {},
   "outputs": [
    {
     "data": {
      "application/vnd.microsoft.datawrangler.viewer.v0+json": {
       "columns": [
        {
         "name": "index",
         "rawType": "int64",
         "type": "integer"
        },
        {
         "name": "question",
         "rawType": "object",
         "type": "string"
        },
        {
         "name": "answer",
         "rawType": "object",
         "type": "string"
        },
        {
         "name": "sources",
         "rawType": "object",
         "type": "unknown"
        }
       ],
       "conversionMethod": "pd.DataFrame",
       "ref": "da8b5290-48dd-486c-9b1d-2c567c3ab67b",
       "rows": [
        [
         "0",
         "What accounting standards or principles were applied in the preparation of these statements?",
         "These financial statements have been prepared in accordance with International Financial Reporting Standards (IFRSs) as adopted by the EU and also comply with the financial reporting requirements included in Part 9 of Book 2 of the Dutch Civil Code.",
         "[{'citation': 'These financial statements have been prepared in accordance with International Financial Reporting Standards (IFRSs) as adopted by the EU and also comply with the financial reporting requirements included in Part 9 of Book 2 of the Dutch Civil Code.', 'page': 264}]"
        ],
        [
         "1",
         "Do these financial results include any extraordinary or one-time items?",
         "The financial results do include unusual items, related to impairment, losses and restructuring charges.",
         "[{'citation': 'This decrease resulted from unusual items, related to impairment, losses and restructuring charges, as described earlier in this section.', 'page': 41}]"
        ],
        [
         "2",
         "Could you specify the time frame these financial statements represent?",
         "The financial statements cover the 52-week period ending on December 29, 2024.",
         "[{'citation': 'The financial year 2024 consisted of 52 weeks and ended on December 29, 2024.', 'page': 264}]"
        ],
        [
         "3",
         "Are there any transactions with related parties that are documented in the financial statements?",
         "Yes, Note 31 to the financial statements contains information on related party transactions.",
         "[{'citation': 'For more details on the remuneration of the individual members of the Management Board, see the Remuneration report.', 'page': 239}, {'citation': 'For a list of subsidiaries, joint ventures and associates, see Note 35 to the consolidated financial statements.', 'page': 288}]"
        ],
        [
         "4",
         "Could you detail the principal elements of operating expenses and their classification?",
         "The principal elements of operating expenses are specified by nature as follows: Cost of product, Labor costs, Other operational expenses, Depreciation and amortization, Rent expenses, Impairment losses and reversals – net, (Gains) losses on leases and the sale of assets - net.",
         "[{'citation': 'The aggregate of cost of sales, selling expenses, and general and administrative expenses is specified by nature as follows: Cost of product, Labor costs, Other operational expenses, Depreciation and amortization, Rent expenses, Impairment losses and reversals – net, (Gains) losses on leases and the sale of assets - net', 'page': 273}]"
        ],
        [
         "5",
         "Have there been any alterations to accounting policies or practices since prior reporting periods?",
         "Yes, there have been some changes in accounting policies. The document mentions that comparative amounts have been restated to conform to the current year's presentation.",
         "[{'citation': \"Comparative amounts have been restated to conform to the current year's presentation (see Note 3).\", 'page': 41}]"
        ],
        [
         "6",
         "What process is used to determine and reveal major accounting estimates?",
         "The document indicates that preparing financial statements involves management making estimates and judgments that affect reported amounts. Specific notes in the financial statements detail the estimates and judgments used.",
         "[{'citation': 'The preparation of financial statements requires management to make a number of estimates and assumptions that affect the reported amounts of assets and liabilities, revenues and expenses, and the disclosure of contingent assets and liabilities which, by definition, will seldom equal the actual results.', 'page': 265}]"
        ],
        [
         "7",
         "What accounting and presentation methods are used for taxes in these financial statements?",
         "The financial statements use the sum of current and deferred tax. Income tax is recognized in the income statement except to the extent that it relates to items recognized directly in equity or other comprehensive income. Current tax expense is based on the best estimate of taxable income for the year, using tax rates that have been enacted or substantively enacted at the balance sheet date and adjustments for current taxes payable (receivable) for prior years.",
         "[{'citation': 'Income tax expense represents the sum of current and deferred tax. Income tax is recognized in the income statement except to the extent that it relates to items recognized directly in equity or other comprehensive income. Current tax expense is based on the best estimate of taxable income for the year, using tax rates that have been enacted or substantively enacted at the balance sheet date and adjustments for current taxes payable (receivable) for prior years.', 'page': 275}]"
        ],
        [
         "8",
         "Are there any contractual commitments or obligations outlined in these statements?",
         "Yes, there are contractual commitments and obligations outlined in the statements, including investment commitments and purchase commitments.",
         "[{'citation': 'As of December 29, 2024, Ahold Delhaize had outstanding investment commitments for property, plant and equipment and investment property, and for intangible assets of approximately €454 million and €14 million, respectively (December 31, 2023: €412 million and €15 million, respectively).', 'page': 324}, {'citation': \"As of December 29, 2024, the Company's purchase commitments were approximately €3.8 billion (December 31, 2023: €3.6 billion).\", 'page': 324}]"
        ],
        [
         "9",
         "Could you describe the nature and extent of the audit or review procedures carried out on these statements?",
         "The audit was performed with a high, but not absolute, level of assurance, which means we may not detect all material errors and fraud during our audit.",
         "[{'citation': 'Our audit has been performed with a high, but not absolute, level of assurance, which means we may not detect all material errors and fraud during our audit.', 'page': 339}]"
        ]
       ],
       "shape": {
        "columns": 3,
        "rows": 10
       }
      },
      "text/html": [
       "<div>\n",
       "<style scoped>\n",
       "    .dataframe tbody tr th:only-of-type {\n",
       "        vertical-align: middle;\n",
       "    }\n",
       "\n",
       "    .dataframe tbody tr th {\n",
       "        vertical-align: top;\n",
       "    }\n",
       "\n",
       "    .dataframe thead th {\n",
       "        text-align: right;\n",
       "    }\n",
       "</style>\n",
       "<table border=\"1\" class=\"dataframe\">\n",
       "  <thead>\n",
       "    <tr style=\"text-align: right;\">\n",
       "      <th></th>\n",
       "      <th>question</th>\n",
       "      <th>answer</th>\n",
       "      <th>sources</th>\n",
       "    </tr>\n",
       "  </thead>\n",
       "  <tbody>\n",
       "    <tr>\n",
       "      <th>0</th>\n",
       "      <td>What accounting standards or principles were a...</td>\n",
       "      <td>These financial statements have been prepared ...</td>\n",
       "      <td>[{'citation': 'These financial statements have...</td>\n",
       "    </tr>\n",
       "    <tr>\n",
       "      <th>1</th>\n",
       "      <td>Do these financial results include any extraor...</td>\n",
       "      <td>The financial results do include unusual items...</td>\n",
       "      <td>[{'citation': 'This decrease resulted from unu...</td>\n",
       "    </tr>\n",
       "    <tr>\n",
       "      <th>2</th>\n",
       "      <td>Could you specify the time frame these financi...</td>\n",
       "      <td>The financial statements cover the 52-week per...</td>\n",
       "      <td>[{'citation': 'The financial year 2024 consist...</td>\n",
       "    </tr>\n",
       "    <tr>\n",
       "      <th>3</th>\n",
       "      <td>Are there any transactions with related partie...</td>\n",
       "      <td>Yes, Note 31 to the financial statements conta...</td>\n",
       "      <td>[{'citation': 'For more details on the remuner...</td>\n",
       "    </tr>\n",
       "    <tr>\n",
       "      <th>4</th>\n",
       "      <td>Could you detail the principal elements of ope...</td>\n",
       "      <td>The principal elements of operating expenses a...</td>\n",
       "      <td>[{'citation': 'The aggregate of cost of sales,...</td>\n",
       "    </tr>\n",
       "    <tr>\n",
       "      <th>5</th>\n",
       "      <td>Have there been any alterations to accounting ...</td>\n",
       "      <td>Yes, there have been some changes in accountin...</td>\n",
       "      <td>[{'citation': 'Comparative amounts have been r...</td>\n",
       "    </tr>\n",
       "    <tr>\n",
       "      <th>6</th>\n",
       "      <td>What process is used to determine and reveal m...</td>\n",
       "      <td>The document indicates that preparing financia...</td>\n",
       "      <td>[{'citation': 'The preparation of financial st...</td>\n",
       "    </tr>\n",
       "    <tr>\n",
       "      <th>7</th>\n",
       "      <td>What accounting and presentation methods are u...</td>\n",
       "      <td>The financial statements use the sum of curren...</td>\n",
       "      <td>[{'citation': 'Income tax expense represents t...</td>\n",
       "    </tr>\n",
       "    <tr>\n",
       "      <th>8</th>\n",
       "      <td>Are there any contractual commitments or oblig...</td>\n",
       "      <td>Yes, there are contractual commitments and obl...</td>\n",
       "      <td>[{'citation': 'As of December 29, 2024, Ahold ...</td>\n",
       "    </tr>\n",
       "    <tr>\n",
       "      <th>9</th>\n",
       "      <td>Could you describe the nature and extent of th...</td>\n",
       "      <td>The audit was performed with a high, but not a...</td>\n",
       "      <td>[{'citation': 'Our audit has been performed wi...</td>\n",
       "    </tr>\n",
       "  </tbody>\n",
       "</table>\n",
       "</div>"
      ],
      "text/plain": [
       "                                            question  \\\n",
       "0  What accounting standards or principles were a...   \n",
       "1  Do these financial results include any extraor...   \n",
       "2  Could you specify the time frame these financi...   \n",
       "3  Are there any transactions with related partie...   \n",
       "4  Could you detail the principal elements of ope...   \n",
       "5  Have there been any alterations to accounting ...   \n",
       "6  What process is used to determine and reveal m...   \n",
       "7  What accounting and presentation methods are u...   \n",
       "8  Are there any contractual commitments or oblig...   \n",
       "9  Could you describe the nature and extent of th...   \n",
       "\n",
       "                                              answer  \\\n",
       "0  These financial statements have been prepared ...   \n",
       "1  The financial results do include unusual items...   \n",
       "2  The financial statements cover the 52-week per...   \n",
       "3  Yes, Note 31 to the financial statements conta...   \n",
       "4  The principal elements of operating expenses a...   \n",
       "5  Yes, there have been some changes in accountin...   \n",
       "6  The document indicates that preparing financia...   \n",
       "7  The financial statements use the sum of curren...   \n",
       "8  Yes, there are contractual commitments and obl...   \n",
       "9  The audit was performed with a high, but not a...   \n",
       "\n",
       "                                             sources  \n",
       "0  [{'citation': 'These financial statements have...  \n",
       "1  [{'citation': 'This decrease resulted from unu...  \n",
       "2  [{'citation': 'The financial year 2024 consist...  \n",
       "3  [{'citation': 'For more details on the remuner...  \n",
       "4  [{'citation': 'The aggregate of cost of sales,...  \n",
       "5  [{'citation': 'Comparative amounts have been r...  \n",
       "6  [{'citation': 'The preparation of financial st...  \n",
       "7  [{'citation': 'Income tax expense represents t...  \n",
       "8  [{'citation': 'As of December 29, 2024, Ahold ...  \n",
       "9  [{'citation': 'Our audit has been performed wi...  "
      ]
     },
     "execution_count": 18,
     "metadata": {},
     "output_type": "execute_result"
    }
   ],
   "source": [
    "df = pd.DataFrame(\n",
    "    [\n",
    "        answer.model_dump() for answer in audit_answers.answers\n",
    "    ]\n",
    ")\n",
    "df"
   ]
  }
 ],
 "metadata": {
  "kernelspec": {
   "display_name": ".venv",
   "language": "python",
   "name": "python3"
  },
  "language_info": {
   "codemirror_mode": {
    "name": "ipython",
    "version": 3
   },
   "file_extension": ".py",
   "mimetype": "text/x-python",
   "name": "python",
   "nbconvert_exporter": "python",
   "pygments_lexer": "ipython3",
   "version": "3.13.1"
  }
 },
 "nbformat": 4,
 "nbformat_minor": 2
}
