{
 "cells": [
  {
   "cell_type": "code",
   "execution_count": 2,
   "metadata": {},
   "outputs": [],
   "source": [
    "from google import genai\n",
    "from google.genai import types\n",
    "from pydantic import BaseModel, Field\n",
    "import pandas as pd\n",
    "from pathlib import Path\n",
    "import requests"
   ]
  },
  {
   "cell_type": "code",
   "execution_count": 5,
   "metadata": {},
   "outputs": [],
   "source": [
    "client = genai.Client(\n",
    "    vertexai=True,\n",
    "    location='europe-west4'\n",
    ")"
   ]
  },
  {
   "cell_type": "code",
   "execution_count": 6,
   "metadata": {},
   "outputs": [],
   "source": [
    "pdf_path = Path(\"../data/ad_annual-report_2024_interactive.pdf\")\n",
    "\n",
    "report_2024 = types.Part.from_bytes(\n",
    "    data=pdf_path.read_bytes(),\n",
    "    mime_type=\"application/pdf\",\n",
    ")"
   ]
  },
  {
   "cell_type": "code",
   "execution_count": 7,
   "metadata": {},
   "outputs": [],
   "source": [
    "prompt: str = \"\"\"\n",
    "Answer the following questions:\n",
    "\n",
    "0. What accounting standards or principles were applied in the preparation of these statements?\n",
    "1. Do these financial results include any extraordinary or one-time items?\n",
    "2. Could you specify the time frame these financial statements represent?\n",
    "3. Are there any transactions with related parties that are documented in the financial statements?\n",
    "4. Could you detail the principal elements of operating expenses and their classification?\n",
    "5. Have there been any alterations to accounting policies or practices since prior reporting periods?\n",
    "6. What process is used to determine and reveal major accounting estimates?\n",
    "7. What accounting and presentation methods are used for taxes in these financial statements?\n",
    "8. Are there any contractual commitments or obligations outlined in these statements?\n",
    "9. Could you describe the nature and extent of the audit or review procedures carried out on these statements?\n",
    "\n",
    "... using the attached annual statement PDF.\n",
    "\"\"\""
   ]
  },
  {
   "cell_type": "code",
   "execution_count": 8,
   "metadata": {},
   "outputs": [],
   "source": [
    "class AnswerSource(BaseModel):\n",
    "    citation: str = Field(description=\"A text citation of the answer in the source document.\")\n",
    "    document: str\n",
    "    page: int\n",
    "    \n",
    "\n",
    "class AuditAnswer(BaseModel):\n",
    "    question: str\n",
    "    answer: str | None\n",
    "    sources: list[AnswerSource]\n",
    "\n",
    "class AuditAnswers(BaseModel):\n",
    "    answers: list[AuditAnswer]"
   ]
  },
  {
   "cell_type": "code",
   "execution_count": 11,
   "metadata": {},
   "outputs": [
    {
     "data": {
      "text/plain": [
       "AuditAnswers(answers=[AuditAnswer(question='What accounting standards or principles were applied in the preparation of these statements?', answer='These financial statements have been prepared in accordance with International Financial Reporting Standards (IFRSs) as adopted by the EU and also comply with the financial reporting requirements included in Part 9 of Book 2 of the Dutch Civil Code.', sources=[AnswerSource(citation='These financial statements have been prepared in accordance with International Financial Reporting Standards (IFRSs) as adopted by the EU and also comply with the financial reporting requirements included in Part 9 of Book 2 of the Dutch Civil Code.', document='annual statement PDF', page=264)]), AuditAnswer(question='Do these financial results include any extraordinary or one-time items?', answer='The financial results are adjusted for impairments of non-current assets, gains and losses on the sale of assets, gains and losses on leases and subleases, restructuring and related charges, and other items considered not to be directly related to the underlying performance.', sources=[AnswerSource(citation='Underlying operating income is defined as total operating income, adjusted for impairments of non-current assets, gains and losses on the sale of assets, gains and losses on leases and subleases, restructuring and related charges, and other items considered not to be directly related to the underlying performance.', document='annual statement PDF', page=353)]), AuditAnswer(question='Could you specify the time frame these financial statements represent?', answer='The financial statements cover the 52-week period ending on December 29, 2024.', sources=[AnswerSource(citation='The financial year 2024 consisted of 52 weeks and ended on December 29, 2024.', document='annual statement PDF', page=264)]), AuditAnswer(question='Are there any transactions with related parties that are documented in the financial statements?', answer='Yes, Note 31 to the financial statements contains information on related party transactions.', sources=[AnswerSource(citation='For more details on the remuneration of the individual members of the Management Board, see the Remuneration report.', document='annual statement PDF', page=316)]), AuditAnswer(question='Could you detail the principal elements of operating expenses and their classification?', answer='Operating expenses include selling expenses and general and administrative expenses.', sources=[AnswerSource(citation=\"Selling expenses relate to our store and online operations and consist of employees' salaries and wages, store expenses, depreciation related to owned and leased stores, amortization of intangible assets, advertising costs, outbound logistics costs (order fulfillment and delivery cost) and other selling expenses.\", document='annual statement PDF', page=273), AnswerSource(citation=\"General and administrative expenses consist of support office employees' salaries and wages, rent and depreciation of support offices, amortization of intangible assets, impairment losses and reversals, gains and losses on the sale of non-current assets and disposal groups held for sale, restructuring costs, and other general and administrative expenses.\", document='annual statement PDF', page=273)]), AuditAnswer(question='Have there been any alterations to accounting policies or practices since prior reporting periods?', answer=\"Yes, the comparative amounts have been restated to conform to the current year's presentation.\", sources=[AnswerSource(citation=\"Comparative amounts have been restated to conform to the current year's presentation (see Note 3).\", document='annual statement PDF', page=271)]), AuditAnswer(question='What process is used to determine and reveal major accounting estimates?', answer='The preparation of financial statements requires management to make a number of estimates and assumptions that affect the reported amounts of assets and liabilities, revenues and expenses, and the disclosure of contingent assets and liabilities which, by definition, will seldom equal the actual results.', sources=[AnswerSource(citation='The preparation of financial statements requires management to make a number of estimates and assumptions that affect the reported amounts of assets and liabilities, revenues and expenses, and the disclosure of contingent assets and liabilities which, by definition, will seldom equal the actual results.', document='annual statement PDF', page=265)]), AuditAnswer(question='What accounting and presentation methods are used for taxes in these financial statements?', answer='Income tax expense represents the sum of current and deferred tax. Income tax is recognized in the income statement except to the extent that it relates to items recognized directly in equity or other comprehensive income.', sources=[AnswerSource(citation='Income tax expense represents the sum of current and deferred tax. Income tax is recognized in the income statement except to the extent that it relates to items recognized directly in equity or other comprehensive income.', document='annual statement PDF', page=275)]), AuditAnswer(question='Are there any contractual commitments or obligations outlined in these statements?', answer='Yes, Ahold Delhaize has outstanding investment commitments for property, plant and equipment and investment property, and for intangible assets.', sources=[AnswerSource(citation='Ahold Delhaize had outstanding investment commitments for property, plant and equipment and investment property, and for intangible assets of approximately €454 million and €14 million, respectively (December 31, 2023: €412 million and €15 million, respectively).', document='annual statement PDF', page=323)]), AuditAnswer(question='Could you describe the nature and extent of the audit or review procedures carried out on these statements?', answer='We conducted our audit in accordance with Dutch law, including the Dutch Standards on Auditing. We believe the audit evidence we have obtained is sufficient and appropriate to provide a basis for our opinion.', sources=[AnswerSource(citation='We conducted our audit in accordance with Dutch law, including the Dutch Standards on Auditing. We believe the audit evidence we have obtained is sufficient and appropriate to provide a basis for our opinion.', document='annual statement PDF', page=339)])])"
      ]
     },
     "execution_count": 11,
     "metadata": {},
     "output_type": "execute_result"
    }
   ],
   "source": [
    "response = client.models.generate_content(\n",
    "    model='gemini-2.0-flash-001',\n",
    "    contents=[\n",
    "        prompt,\n",
    "        report_2024\n",
    "    ],\n",
    "    config=types.GenerateContentConfig(\n",
    "        temperature=0.2,\n",
    "        response_mime_type='application/json',\n",
    "        response_schema=AuditAnswers,\n",
    "    ),\n",
    ")\n",
    "audit_answers: AuditAnswers = response.parsed\n",
    "audit_answers"
   ]
  },
  {
   "cell_type": "code",
   "execution_count": null,
   "metadata": {},
   "outputs": [],
   "source": [
    "df = pd.DataFrame(\n",
    "    [\n",
    "        answer.model_dump() for answer in audit_answers.answers\n",
    "    ]\n",
    ")\n",
    "df"
   ]
  },
  {
   "cell_type": "markdown",
   "metadata": {},
   "source": [
    "## Going bigger"
   ]
  },
  {
   "cell_type": "code",
   "execution_count": null,
   "metadata": {},
   "outputs": [],
   "source": [
    "def online_pdf_to_part(url: str) -> types.Part:\n",
    "    response = requests.get(url)\n",
    "    return types.Part.from_bytes(\n",
    "        data=response.content,\n",
    "        mime_type=\"application/pdf\",\n",
    "    )"
   ]
  },
  {
   "cell_type": "code",
   "execution_count": null,
   "metadata": {},
   "outputs": [],
   "source": [
    "prompt_compare_years: str = \"\"\"\n",
    "Answer the following questions:\n",
    "\n",
    "- What is the company's revenue for each year?\n",
    "- Have there been any alterations to accounting policies or practices since prior reporting periods?\n",
    "- How has the company's strategy changed over the years?\n",
    "- Summarise the most important changes in the company's financial position over the years.\n",
    "- Summarise the most important strategic changes over the years.\n",
    "- What were the key performance indicators for Ahold Delhaize in 2020, and how did they compare to the targets set for 2020, as well as the actual results achieved in 2015?\n",
    "- How did the key audit matters related to goodwill and brand names change from 2015 to 2020?\n",
    "- How did the number of associates change from 2015 to 2020?\n",
    "- What was the dividend per common share in 2015?\n",
    "\n",
    "... using the attached annual statements.\n",
    "\"\"\""
   ]
  },
  {
   "cell_type": "code",
   "execution_count": 40,
   "metadata": {},
   "outputs": [
    {
     "data": {
      "text/plain": [
       "AuditAnswers(answers=[AuditAnswer(question=\"What is the company's revenue for each year?\", answer=\"Ahold's net sales for 2015 was €38.2bn. Delhaize's revenues for 2015 was €24.4 B. Ahold Delhaize's net sales for 2016 was €49.7bn, for 2017 was €62.9bn, for 2018 was €62.89bn, for 2019 was €66.26bn, and for 2020 was €74.7bn.\", sources=[AnswerSource(citation='In 2015, we achieved net sales of €38.2bn and generated free cash flow of €1.2bn', document='Ahold 2015 annual report', page=5), AnswerSource(citation='Revenues: €872 M Group underlying operating profit; €24.4 B Revenues', document='Delhaize 2015 annual report', page=5), AnswerSource(citation='Net sales €49,695 million', document='Ahold Delhaize 2016 annual report', page=8), AnswerSource(citation='Net sales €62.890 bn', document='Ahold Delhaize 2018 annual report', page=7), AnswerSource(citation='Net sales €66.260 bn', document='Ahold Delhaize 2019 annual report', page=6), AnswerSource(citation='Net sales €74.736 bn', document='Ahold Delhaize 2020 annual report', page=2), AnswerSource(citation='Net sales €62.890 bn', document='Ahold Delhaize 2017 annual report', page=7)]), AuditAnswer(question='Have there been any alterations to accounting policies or practices since prior reporting periods?', answer=\"Ahold Delhaize's 2020 report mentions the impact of IFRS 16, which affected the comparability of the 2020 financial results to prior years. Ahold Delhaize's 2018 report mentions that the implementation of IFRS 15 and the application of full retrospective approach, the 2017 and 2016 consolidated figures have been restated.\", sources=[AnswerSource(citation='Due to the implementation of IFRS 16 and the application of the full retrospective approach, the 2017 and 2016 consolidated figures have been restated', document='Ahold Delhaize 2018 annual report', page=31), AnswerSource(citation='Due to the implementation of IFRS 16 and the application of the full retrospective approach, the 2017 and 2016 consolidated figures have been restated', document='Ahold Delhaize 2018 annual report', page=68), AnswerSource(citation='Due to the implementation of IFRS 16 and the application of the full retrospective approach, the 2017 and 2016 consolidated figures have been restated', document='Ahold Delhaize 2018 annual report', page=90), AnswerSource(citation='Due to the implementation of IFRS 16 and the application of the full retrospective approach, the 2017 and 2016 consolidated figures have been restated', document='Ahold Delhaize 2018 annual report', page=109), AnswerSource(citation='Due to the implementation of IFRS 16 and the application of the full retrospective approach, the 2017 and 2016 consolidated figures have been restated', document='Ahold Delhaize 2018 annual report', page=120), AnswerSource(citation='Due to the implementation of IFRS 16 and the application of the full retrospective approach, the 2017 and 2016 consolidated figures have been restated', document='Ahold Delhaize 2018 annual report', page=142), AnswerSource(citation='Due to the implementation of IFRS 16 and the application of the full retrospective approach, the 2017 and 2016 consolidated figures have been restated', document='Ahold Delhaize 2018 annual report', page=191), AnswerSource(citation='Due to the implementation of IFRS 16 and the application of the full retrospective approach, the 2017 and 2016 consolidated figures have been restated', document='Ahold Delhaize 2018 annual report', page=201), AnswerSource(citation='Due to the implementation of IFRS 16 and the application of the full retrospective approach, the 2017 and 2016 consolidated figures have been restated', document='Ahold Delhaize 2018 annual report', page=211), AnswerSource(citation='Due to the implementation of IFRS 16 and the application of the full retrospective approach, the 2017 and 2016 consolidated figures have been restated', document='Ahold Delhaize 2018 annual report', page=218), AnswerSource(citation='Due to the implementation of IFRS 16 and the application of the full retrospective approach, the 2017 and 2016 consolidated figures have been restated', document='Ahold Delhaize 2018 annual report', page=220), AnswerSource(citation='Due to the implementation of IFRS 16 and the application of the full retrospective approach, the 2017 and 2016 consolidated figures have been restated', document='Ahold Delhaize 2018 annual report', page=235), AnswerSource(citation='Due to the implementation of IFRS 16 and the application of the full retrospective approach, the 2017 and 2016 consolidated figures have been restated', document='Ahold Delhaize 2018 annual report', page=239)]), AuditAnswer(question=\"How has the company's strategy changed over the years?\", answer=\"In 2015, Ahold's strategic pillars included increasing customer loyalty, broadening our offering, expanding our geographic reach, simplicity, responsible retailing, and people performance. By 2016, after the merger, Ahold Delhaize's strategy was described as 'Better Together', focusing on offering the best to customers, associates, and communities. By 2019, Ahold Delhaize's strategy was described as 'Leading Together', with a focus on omnichannel growth, healthy and sustainable practices, cultivating best talent, and strengthening operational excellence.\", sources=[AnswerSource(citation='These six pillars help us achieve our growth ambitions.', document='Ahold 2015 annual report', page=23), AnswerSource(citation='Ahold Delhaize’s strategy is helping our brands offer the best to customers, associates and communities.', document='Ahold Delhaize 2016 annual report', page=26), AnswerSource(citation='Our Leading Together strategy has served us well since 2018 and is still helping us deliver solid results.', document='Ahold Delhaize 2019 annual report', page=23)]), AuditAnswer(question=\"Summarise the most important changes in the company's financial position over the years.\", answer=\"The most significant change in the company's financial position was the merger between Ahold and Delhaize in 2016, which significantly increased the company's assets, liabilities, and equity. The company's net sales have generally increased from 2015 to 2020.\", sources=[AnswerSource(citation='On July 24, 2016, the merger between Ahold and Delhaize Group was completed. Largely, the merger was implemented by Delhaize Group NV/SA merging into Koninklijke Ahold NV, with the entity renamed Ahold Delhaize.', document='Ahold Delhaize 2016 annual report', page=8), AnswerSource(citation='Net sales €49,695 million', document='Ahold Delhaize 2016 annual report', page=8), AnswerSource(citation='Net sales €62.890 bn', document='Ahold Delhaize 2018 annual report', page=7), AnswerSource(citation='Net sales €66.260 bn', document='Ahold Delhaize 2019 annual report', page=6), AnswerSource(citation='Net sales €74.736 bn', document='Ahold Delhaize 2020 annual report', page=2)]), AuditAnswer(question='Summarise the most important strategic changes over the years.', answer=\"The most important strategic change was the merger between Ahold and Delhaize in 2016. This led to a shift in strategy towards a 'Better Together' approach, focusing on customers, associates, and communities. The company also increasingly emphasized omnichannel growth and sustainability in its strategy.\", sources=[AnswerSource(citation='On July 24, 2016, the merger between Ahold and Delhaize Group was completed. Largely, the merger was implemented by Delhaize Group NV/SA merging into Koninklijke Ahold NV, with the entity renamed Ahold Delhaize.', document='Ahold Delhaize 2016 annual report', page=8), AnswerSource(citation='Ahold Delhaize’s strategy is helping our brands offer the best to customers, associates and communities.', document='Ahold Delhaize 2016 annual report', page=26), AnswerSource(citation='Our Leading Together strategy has served us well since 2018 and is still helping us deliver solid results.', document='Ahold Delhaize 2019 annual report', page=23)]), AuditAnswer(question='What were the key performance indicators for Ahold Delhaize in 2020, and how did they compare to the targets set for 2020, as well as the actual results achieved in 2015?', answer='Key performance indicators for Ahold Delhaize in 2020 and their comparison to targets and 2015 results:\\n\\n*   Net sales: €74.7bn (2020), 2015: €38.2bn\\n*   Net consumer online sales: €7.6bn (2020), 2015: Not available\\n*   Free cash flow: €2.2bn (2020), 2015: €1.2bn\\n*   Dividend per common share: €0.90 (2020), 2015: €0.52\\n*   Net income: €1.4bn (2020), 2015: €851 million\\n*   Underlying operating income: €3.6bn (2020), 2015: €1.5bn\\n*   Underlying operating margin: 4.8% (2020), 2015: 3.8%\\n*   Own-brand food sales from healthy products: 49.8% (2020), 2015: Not available\\n*   Associate engagement score: 81% (2020), 2015: Not available\\n*   Reduction in absolute CO2-equivalent emissions (Scope 1 and 2): 17% (2020), 2015: Not available\\n*   Reduction in tonnes of food waste per food sales (€/T€ million): 17% (2020), 2015: Not available\\n\\nTargets for 2020:\\n\\n*   Group underlying operating margin: Broadly in line with 2019 (4.2%) - Result: 4.8%\\n*   Diluted underlying EPS growth: Mid-single-digit % growth - Result: 33.3%\\n*   Net capital expenditures: ~€2.5 billion - Result: €2.3 billion\\n*   Free cash flow: ~€1.6 billion - Result: €2.2 billion\\n*   Dividend payout ratio: 40-50% - Result: 40%\\n*   Share buyback: €1 billion - Result: €1 billion\\n*   Net consumer online sales growth / U.S. online sales growth: >30% - Result: +37.3% / +105%\\n*   Stop & Shop store remodels: >40 - Result: 33\\n*   Bol.com net consumer online sales growth: Progress to achieving €5.5 billion by 2021 - Result: €1.3 billion\\n*   Healthy own-brand sales: 50.0% - Result: 49.8%\\n*   Food waste reduction: 10% - Result: 17%\\n*   CO2-emissions reduction: 7% - Result: 17%\\n*   Associate engagement score: 73% - Result: 81%\\n*   Healthy workplace score: 75% - Result: 76%\\n*   Inclusive workplace score: 79% - Result: 79%', sources=[AnswerSource(citation='Net sales €74.736 bn', document='Ahold Delhaize 2020 annual report', page=2), AnswerSource(citation='Net sales €38.2bn', document='Ahold 2015 annual report', page=5), AnswerSource(citation='Free cash flow €2.2bn', document='Ahold Delhaize 2020 annual report', page=2), AnswerSource(citation='Free cash flow €1.2bn', document='Ahold 2015 annual report', page=5), AnswerSource(citation='Dividend per common share €0.90', document='Ahold Delhaize 2020 annual report', page=2), AnswerSource(citation='Dividend per common share €0.52', document='Ahold 2015 annual report', page=5), AnswerSource(citation='Net income €1.4bn', document='Ahold Delhaize 2020 annual report', page=2), AnswerSource(citation='Net sales €40.0bn', document='Ahold Delhaize 2020 annual report', page=53), AnswerSource(citation='Net sales €23.7bn', document='Ahold 2015 annual report', page=6), AnswerSource(citation='Underlying operating income €3.594 million', document='Ahold Delhaize 2020 annual report', page=53), AnswerSource(citation='Underlying operating income €1.461 million', document='Ahold 2015 annual report', page=5), AnswerSource(citation='Underlying operating margin 4.8%', document='Ahold Delhaize 2020 annual report', page=53), AnswerSource(citation='Underlying operating margin 3.8%', document='Ahold 2015 annual report', page=5), AnswerSource(citation='Group key indicators', document='Ahold Delhaize 2020 annual report', page=2)]), AuditAnswer(question='How did the key audit matters related to goodwill and brand names change from 2015 to 2020?', answer='In 2015, the key audit matters included recognition of vendor allowances, impairment testing of store assets, and employee benefit plan measurement. By 2020, the key audit matters were impairment testing of goodwill and brand names, recognition of vendor allowance income, and employee benefit plan measurement and disclosures.', sources=[AnswerSource(citation='Key audit matters: Recognition of vendor allowances; Impairment testing of store assets; Employee benefit plan measurement', document='Ahold 2015 annual report', page=153), AnswerSource(citation='Key audit matters: Impairment testing of goodwill and brand names; Recognition of vendor allowance income; Employee benefit plan measurement and disclosures', document='Ahold Delhaize 2020 annual report', page=239)]), AuditAnswer(question='How did the number of associates change from 2015 to 2020?', answer='The number of associates increased from 236,000 in 2015 to 380,000 in 2020.', sources=[AnswerSource(citation='Associates 236,000', document='Ahold 2015 annual report', page=3), AnswerSource(citation='380 thousand associates', document='Ahold Delhaize 2020 annual report', page=11)]), AuditAnswer(question='What was the dividend per common share in 2015?', answer='The dividend per common share in 2015 was €0.52.', sources=[AnswerSource(citation='Dividend per common share €0.52', document='Ahold 2015 annual report', page=5)]), AuditAnswer(question='Come up with 1 question that can only be answered given citations from all provided reports.', answer=\"How did the company's approach to sustainability evolve from 2015 to 2020, considering both Ahold and Delhaize's individual initiatives before the merger and the combined entity's efforts afterward?\", sources=[]), AuditAnswer(question='List 1 audit type of question that can only be answered given citations from all provided reports.', answer=\"How did the auditor's assessment of the company's internal controls over financial reporting evolve from 2015 to 2020, considering the merger between Ahold and Delhaize and any changes in the audit scope or key audit matters?\", sources=[]), AuditAnswer(question='Provide 1 question that can only be answered given citations from all attached reports.', answer=\"How did the merger between Ahold and Delhaize impact the company's ability to achieve its sustainability goals, and what new targets were set following the merger?\", sources=[]), AuditAnswer(question='Come up with 1 question that can only be answered from a report from 1 year - not any other.', answer=\"What were the specific sustainability targets outlined in Delhaize Group's 2020 Sustainability Goals, as mentioned in the 2015 Delhaize annual report?\", sources=[AnswerSource(citation='DELHAIZE GROUP’S 2020 SUSTAINABILITY GOALS IN THE AREAS OF ZERO WASTE INCLUDE THE FOLLOWING:', document='Delhaize 2015 annual report', page=23)])])"
      ]
     },
     "execution_count": 40,
     "metadata": {},
     "output_type": "execute_result"
    }
   ],
   "source": [
    "response_compare_years = client.models.generate_content(\n",
    "    model='gemini-2.0-flash-001',\n",
    "    contents=[\n",
    "        prompt_compare_years,\n",
    "        \"Ahold 2015 annual report:\",\n",
    "        online_pdf_to_part(\"https://www.aholddelhaize.com/media/as2deaxh/ahold_ar15_fullreport_interactive.pdf\"),\n",
    "        \"Delhaize 2015 annual report:\",\n",
    "        online_pdf_to_part(\"https://www.aholddelhaize.com/media/4s3h52sq/2015_annualreport_en.pdf\"),\n",
    "        \"Ahold Delhaize 2016 annual report:\",\n",
    "        online_pdf_to_part(\"https://www.aholddelhaize.com/media/s1pjua0t/ahold-delhaize-annual-report-2016.pdf\"),\n",
    "        \"Ahold Delhaize 2017 annual report:\",\n",
    "        online_pdf_to_part(\"https://www.aholddelhaize.com/media/g1ujnffp/180302_aholddelhaize_annualreport_2017.pdf\"),\n",
    "        \"Ahold Delhaize 2018 annual report:\",\n",
    "        online_pdf_to_part(\"https://www.aholddelhaize.com/media/rsjhnqh4/ahold-delhaize-annual-report-2018-interactive.pdf\"),\n",
    "        \"Ahold Delhaize 2019 annual report:\",\n",
    "        online_pdf_to_part(\"https://www.aholddelhaize.com/media/1xbnvzzk/ahold-delhaize-annual-report-2019.pdf\"),\n",
    "        \"Ahold Delhaize 2020 annual report:\",\n",
    "        online_pdf_to_part(\"https://www.aholddelhaize.com/media/emmkj0we/annual_report_2020_full_links-1.pdf\"),\n",
    "        \"Ahold Delhaize 2021 annual report:\",\n",
    "        online_pdf_to_part(\"https://www.aholddelhaize.com/media/1l5iqhvt/full-annual-report-2021.pdf\"),\n",
    "        \"Ahold Delhaize 2022 annual report:\",\n",
    "        online_pdf_to_part(\"https://www.aholddelhaize.com/media/vy4neu1n/ar-2022-ahold-delhaize-interactive-final.pdf\"),\n",
    "        \"Ahold Delhaize 2023 annual report:\",\n",
    "        online_pdf_to_part(\"https://www.aholddelhaize.com/media/clkbibno/ad_ar23_interactive.pdf\"),\n",
    "        \"Ahold Delhaize 2024 annual report:\",\n",
    "        report_2024\n",
    "    ],\n",
    "    config=types.GenerateContentConfig(\n",
    "        temperature=0.2,\n",
    "        response_mime_type='application/json',\n",
    "        response_schema=AuditAnswers,\n",
    "    ),\n",
    ")\n",
    "audit_answers_compare_years: AuditAnswers = response_compare_years.parsed\n",
    "audit_answers_compare_years"
   ]
  },
  {
   "cell_type": "code",
   "execution_count": 44,
   "metadata": {},
   "outputs": [
    {
     "data": {
      "application/vnd.microsoft.datawrangler.viewer.v0+json": {
       "columns": [
        {
         "name": "index",
         "rawType": "int64",
         "type": "integer"
        },
        {
         "name": "question",
         "rawType": "object",
         "type": "string"
        },
        {
         "name": "answer",
         "rawType": "object",
         "type": "string"
        },
        {
         "name": "sources",
         "rawType": "object",
         "type": "unknown"
        }
       ],
       "conversionMethod": "pd.DataFrame",
       "ref": "a3d06560-5873-4740-9502-9b2685ce2379",
       "rows": [
        [
         "0",
         "What is the company's revenue for each year?",
         "Ahold's net sales for 2015 was €38.2bn. Delhaize's revenues for 2015 was €24.4 B. Ahold Delhaize's net sales for 2016 was €49.7bn, for 2017 was €62.9bn, for 2018 was €62.89bn, for 2019 was €66.26bn, and for 2020 was €74.7bn.",
         "[{'citation': 'In 2015, we achieved net sales of €38.2bn and generated free cash flow of €1.2bn', 'document': 'Ahold 2015 annual report', 'page': 5}, {'citation': 'Revenues: €872 M Group underlying operating profit; €24.4 B Revenues', 'document': 'Delhaize 2015 annual report', 'page': 5}, {'citation': 'Net sales €49,695 million', 'document': 'Ahold Delhaize 2016 annual report', 'page': 8}, {'citation': 'Net sales €62.890 bn', 'document': 'Ahold Delhaize 2018 annual report', 'page': 7}, {'citation': 'Net sales €66.260 bn', 'document': 'Ahold Delhaize 2019 annual report', 'page': 6}, {'citation': 'Net sales €74.736 bn', 'document': 'Ahold Delhaize 2020 annual report', 'page': 2}, {'citation': 'Net sales €62.890 bn', 'document': 'Ahold Delhaize 2017 annual report', 'page': 7}]"
        ],
        [
         "1",
         "Have there been any alterations to accounting policies or practices since prior reporting periods?",
         "Ahold Delhaize's 2020 report mentions the impact of IFRS 16, which affected the comparability of the 2020 financial results to prior years. Ahold Delhaize's 2018 report mentions that the implementation of IFRS 15 and the application of full retrospective approach, the 2017 and 2016 consolidated figures have been restated.",
         "[{'citation': 'Due to the implementation of IFRS 16 and the application of the full retrospective approach, the 2017 and 2016 consolidated figures have been restated', 'document': 'Ahold Delhaize 2018 annual report', 'page': 31}, {'citation': 'Due to the implementation of IFRS 16 and the application of the full retrospective approach, the 2017 and 2016 consolidated figures have been restated', 'document': 'Ahold Delhaize 2018 annual report', 'page': 68}, {'citation': 'Due to the implementation of IFRS 16 and the application of the full retrospective approach, the 2017 and 2016 consolidated figures have been restated', 'document': 'Ahold Delhaize 2018 annual report', 'page': 90}, {'citation': 'Due to the implementation of IFRS 16 and the application of the full retrospective approach, the 2017 and 2016 consolidated figures have been restated', 'document': 'Ahold Delhaize 2018 annual report', 'page': 109}, {'citation': 'Due to the implementation of IFRS 16 and the application of the full retrospective approach, the 2017 and 2016 consolidated figures have been restated', 'document': 'Ahold Delhaize 2018 annual report', 'page': 120}, {'citation': 'Due to the implementation of IFRS 16 and the application of the full retrospective approach, the 2017 and 2016 consolidated figures have been restated', 'document': 'Ahold Delhaize 2018 annual report', 'page': 142}, {'citation': 'Due to the implementation of IFRS 16 and the application of the full retrospective approach, the 2017 and 2016 consolidated figures have been restated', 'document': 'Ahold Delhaize 2018 annual report', 'page': 191}, {'citation': 'Due to the implementation of IFRS 16 and the application of the full retrospective approach, the 2017 and 2016 consolidated figures have been restated', 'document': 'Ahold Delhaize 2018 annual report', 'page': 201}, {'citation': 'Due to the implementation of IFRS 16 and the application of the full retrospective approach, the 2017 and 2016 consolidated figures have been restated', 'document': 'Ahold Delhaize 2018 annual report', 'page': 211}, {'citation': 'Due to the implementation of IFRS 16 and the application of the full retrospective approach, the 2017 and 2016 consolidated figures have been restated', 'document': 'Ahold Delhaize 2018 annual report', 'page': 218}, {'citation': 'Due to the implementation of IFRS 16 and the application of the full retrospective approach, the 2017 and 2016 consolidated figures have been restated', 'document': 'Ahold Delhaize 2018 annual report', 'page': 220}, {'citation': 'Due to the implementation of IFRS 16 and the application of the full retrospective approach, the 2017 and 2016 consolidated figures have been restated', 'document': 'Ahold Delhaize 2018 annual report', 'page': 235}, {'citation': 'Due to the implementation of IFRS 16 and the application of the full retrospective approach, the 2017 and 2016 consolidated figures have been restated', 'document': 'Ahold Delhaize 2018 annual report', 'page': 239}]"
        ],
        [
         "2",
         "How has the company's strategy changed over the years?",
         "In 2015, Ahold's strategic pillars included increasing customer loyalty, broadening our offering, expanding our geographic reach, simplicity, responsible retailing, and people performance. By 2016, after the merger, Ahold Delhaize's strategy was described as 'Better Together', focusing on offering the best to customers, associates, and communities. By 2019, Ahold Delhaize's strategy was described as 'Leading Together', with a focus on omnichannel growth, healthy and sustainable practices, cultivating best talent, and strengthening operational excellence.",
         "[{'citation': 'These six pillars help us achieve our growth ambitions.', 'document': 'Ahold 2015 annual report', 'page': 23}, {'citation': 'Ahold Delhaize’s strategy is helping our brands offer the best to customers, associates and communities.', 'document': 'Ahold Delhaize 2016 annual report', 'page': 26}, {'citation': 'Our Leading Together strategy has served us well since 2018 and is still helping us deliver solid results.', 'document': 'Ahold Delhaize 2019 annual report', 'page': 23}]"
        ],
        [
         "3",
         "Summarise the most important changes in the company's financial position over the years.",
         "The most significant change in the company's financial position was the merger between Ahold and Delhaize in 2016, which significantly increased the company's assets, liabilities, and equity. The company's net sales have generally increased from 2015 to 2020.",
         "[{'citation': 'On July 24, 2016, the merger between Ahold and Delhaize Group was completed. Largely, the merger was implemented by Delhaize Group NV/SA merging into Koninklijke Ahold NV, with the entity renamed Ahold Delhaize.', 'document': 'Ahold Delhaize 2016 annual report', 'page': 8}, {'citation': 'Net sales €49,695 million', 'document': 'Ahold Delhaize 2016 annual report', 'page': 8}, {'citation': 'Net sales €62.890 bn', 'document': 'Ahold Delhaize 2018 annual report', 'page': 7}, {'citation': 'Net sales €66.260 bn', 'document': 'Ahold Delhaize 2019 annual report', 'page': 6}, {'citation': 'Net sales €74.736 bn', 'document': 'Ahold Delhaize 2020 annual report', 'page': 2}]"
        ],
        [
         "4",
         "Summarise the most important strategic changes over the years.",
         "The most important strategic change was the merger between Ahold and Delhaize in 2016. This led to a shift in strategy towards a 'Better Together' approach, focusing on customers, associates, and communities. The company also increasingly emphasized omnichannel growth and sustainability in its strategy.",
         "[{'citation': 'On July 24, 2016, the merger between Ahold and Delhaize Group was completed. Largely, the merger was implemented by Delhaize Group NV/SA merging into Koninklijke Ahold NV, with the entity renamed Ahold Delhaize.', 'document': 'Ahold Delhaize 2016 annual report', 'page': 8}, {'citation': 'Ahold Delhaize’s strategy is helping our brands offer the best to customers, associates and communities.', 'document': 'Ahold Delhaize 2016 annual report', 'page': 26}, {'citation': 'Our Leading Together strategy has served us well since 2018 and is still helping us deliver solid results.', 'document': 'Ahold Delhaize 2019 annual report', 'page': 23}]"
        ],
        [
         "5",
         "What were the key performance indicators for Ahold Delhaize in 2020, and how did they compare to the targets set for 2020, as well as the actual results achieved in 2015?",
         "Key performance indicators for Ahold Delhaize in 2020 and their comparison to targets and 2015 results:\n\n*   Net sales: €74.7bn (2020), 2015: €38.2bn\n*   Net consumer online sales: €7.6bn (2020), 2015: Not available\n*   Free cash flow: €2.2bn (2020), 2015: €1.2bn\n*   Dividend per common share: €0.90 (2020), 2015: €0.52\n*   Net income: €1.4bn (2020), 2015: €851 million\n*   Underlying operating income: €3.6bn (2020), 2015: €1.5bn\n*   Underlying operating margin: 4.8% (2020), 2015: 3.8%\n*   Own-brand food sales from healthy products: 49.8% (2020), 2015: Not available\n*   Associate engagement score: 81% (2020), 2015: Not available\n*   Reduction in absolute CO2-equivalent emissions (Scope 1 and 2): 17% (2020), 2015: Not available\n*   Reduction in tonnes of food waste per food sales (€/T€ million): 17% (2020), 2015: Not available\n\nTargets for 2020:\n\n*   Group underlying operating margin: Broadly in line with 2019 (4.2%) - Result: 4.8%\n*   Diluted underlying EPS growth: Mid-single-digit % growth - Result: 33.3%\n*   Net capital expenditures: ~€2.5 billion - Result: €2.3 billion\n*   Free cash flow: ~€1.6 billion - Result: €2.2 billion\n*   Dividend payout ratio: 40-50% - Result: 40%\n*   Share buyback: €1 billion - Result: €1 billion\n*   Net consumer online sales growth / U.S. online sales growth: >30% - Result: +37.3% / +105%\n*   Stop & Shop store remodels: >40 - Result: 33\n*   Bol.com net consumer online sales growth: Progress to achieving €5.5 billion by 2021 - Result: €1.3 billion\n*   Healthy own-brand sales: 50.0% - Result: 49.8%\n*   Food waste reduction: 10% - Result: 17%\n*   CO2-emissions reduction: 7% - Result: 17%\n*   Associate engagement score: 73% - Result: 81%\n*   Healthy workplace score: 75% - Result: 76%\n*   Inclusive workplace score: 79% - Result: 79%",
         "[{'citation': 'Net sales €74.736 bn', 'document': 'Ahold Delhaize 2020 annual report', 'page': 2}, {'citation': 'Net sales €38.2bn', 'document': 'Ahold 2015 annual report', 'page': 5}, {'citation': 'Free cash flow €2.2bn', 'document': 'Ahold Delhaize 2020 annual report', 'page': 2}, {'citation': 'Free cash flow €1.2bn', 'document': 'Ahold 2015 annual report', 'page': 5}, {'citation': 'Dividend per common share €0.90', 'document': 'Ahold Delhaize 2020 annual report', 'page': 2}, {'citation': 'Dividend per common share €0.52', 'document': 'Ahold 2015 annual report', 'page': 5}, {'citation': 'Net income €1.4bn', 'document': 'Ahold Delhaize 2020 annual report', 'page': 2}, {'citation': 'Net sales €40.0bn', 'document': 'Ahold Delhaize 2020 annual report', 'page': 53}, {'citation': 'Net sales €23.7bn', 'document': 'Ahold 2015 annual report', 'page': 6}, {'citation': 'Underlying operating income €3.594 million', 'document': 'Ahold Delhaize 2020 annual report', 'page': 53}, {'citation': 'Underlying operating income €1.461 million', 'document': 'Ahold 2015 annual report', 'page': 5}, {'citation': 'Underlying operating margin 4.8%', 'document': 'Ahold Delhaize 2020 annual report', 'page': 53}, {'citation': 'Underlying operating margin 3.8%', 'document': 'Ahold 2015 annual report', 'page': 5}, {'citation': 'Group key indicators', 'document': 'Ahold Delhaize 2020 annual report', 'page': 2}]"
        ],
        [
         "6",
         "How did the key audit matters related to goodwill and brand names change from 2015 to 2020?",
         "In 2015, the key audit matters included recognition of vendor allowances, impairment testing of store assets, and employee benefit plan measurement. By 2020, the key audit matters were impairment testing of goodwill and brand names, recognition of vendor allowance income, and employee benefit plan measurement and disclosures.",
         "[{'citation': 'Key audit matters: Recognition of vendor allowances; Impairment testing of store assets; Employee benefit plan measurement', 'document': 'Ahold 2015 annual report', 'page': 153}, {'citation': 'Key audit matters: Impairment testing of goodwill and brand names; Recognition of vendor allowance income; Employee benefit plan measurement and disclosures', 'document': 'Ahold Delhaize 2020 annual report', 'page': 239}]"
        ],
        [
         "7",
         "How did the number of associates change from 2015 to 2020?",
         "The number of associates increased from 236,000 in 2015 to 380,000 in 2020.",
         "[{'citation': 'Associates 236,000', 'document': 'Ahold 2015 annual report', 'page': 3}, {'citation': '380 thousand associates', 'document': 'Ahold Delhaize 2020 annual report', 'page': 11}]"
        ],
        [
         "8",
         "What was the dividend per common share in 2015?",
         "The dividend per common share in 2015 was €0.52.",
         "[{'citation': 'Dividend per common share €0.52', 'document': 'Ahold 2015 annual report', 'page': 5}]"
        ],
        [
         "9",
         "Come up with 1 question that can only be answered given citations from all provided reports.",
         "How did the company's approach to sustainability evolve from 2015 to 2020, considering both Ahold and Delhaize's individual initiatives before the merger and the combined entity's efforts afterward?",
         "[]"
        ],
        [
         "10",
         "List 1 audit type of question that can only be answered given citations from all provided reports.",
         "How did the auditor's assessment of the company's internal controls over financial reporting evolve from 2015 to 2020, considering the merger between Ahold and Delhaize and any changes in the audit scope or key audit matters?",
         "[]"
        ],
        [
         "11",
         "Provide 1 question that can only be answered given citations from all attached reports.",
         "How did the merger between Ahold and Delhaize impact the company's ability to achieve its sustainability goals, and what new targets were set following the merger?",
         "[]"
        ],
        [
         "12",
         "Come up with 1 question that can only be answered from a report from 1 year - not any other.",
         "What were the specific sustainability targets outlined in Delhaize Group's 2020 Sustainability Goals, as mentioned in the 2015 Delhaize annual report?",
         "[{'citation': 'DELHAIZE GROUP’S 2020 SUSTAINABILITY GOALS IN THE AREAS OF ZERO WASTE INCLUDE THE FOLLOWING:', 'document': 'Delhaize 2015 annual report', 'page': 23}]"
        ]
       ],
       "shape": {
        "columns": 3,
        "rows": 13
       }
      },
      "text/html": [
       "<div>\n",
       "<style scoped>\n",
       "    .dataframe tbody tr th:only-of-type {\n",
       "        vertical-align: middle;\n",
       "    }\n",
       "\n",
       "    .dataframe tbody tr th {\n",
       "        vertical-align: top;\n",
       "    }\n",
       "\n",
       "    .dataframe thead th {\n",
       "        text-align: right;\n",
       "    }\n",
       "</style>\n",
       "<table border=\"1\" class=\"dataframe\">\n",
       "  <thead>\n",
       "    <tr style=\"text-align: right;\">\n",
       "      <th></th>\n",
       "      <th>question</th>\n",
       "      <th>answer</th>\n",
       "      <th>sources</th>\n",
       "    </tr>\n",
       "  </thead>\n",
       "  <tbody>\n",
       "    <tr>\n",
       "      <th>0</th>\n",
       "      <td>What is the company's revenue for each year?</td>\n",
       "      <td>Ahold's net sales for 2015 was €38.2bn. Delhai...</td>\n",
       "      <td>[{'citation': 'In 2015, we achieved net sales ...</td>\n",
       "    </tr>\n",
       "    <tr>\n",
       "      <th>1</th>\n",
       "      <td>Have there been any alterations to accounting ...</td>\n",
       "      <td>Ahold Delhaize's 2020 report mentions the impa...</td>\n",
       "      <td>[{'citation': 'Due to the implementation of IF...</td>\n",
       "    </tr>\n",
       "    <tr>\n",
       "      <th>2</th>\n",
       "      <td>How has the company's strategy changed over th...</td>\n",
       "      <td>In 2015, Ahold's strategic pillars included in...</td>\n",
       "      <td>[{'citation': 'These six pillars help us achie...</td>\n",
       "    </tr>\n",
       "    <tr>\n",
       "      <th>3</th>\n",
       "      <td>Summarise the most important changes in the co...</td>\n",
       "      <td>The most significant change in the company's f...</td>\n",
       "      <td>[{'citation': 'On July 24, 2016, the merger be...</td>\n",
       "    </tr>\n",
       "    <tr>\n",
       "      <th>4</th>\n",
       "      <td>Summarise the most important strategic changes...</td>\n",
       "      <td>The most important strategic change was the me...</td>\n",
       "      <td>[{'citation': 'On July 24, 2016, the merger be...</td>\n",
       "    </tr>\n",
       "    <tr>\n",
       "      <th>5</th>\n",
       "      <td>What were the key performance indicators for A...</td>\n",
       "      <td>Key performance indicators for Ahold Delhaize ...</td>\n",
       "      <td>[{'citation': 'Net sales €74.736 bn', 'documen...</td>\n",
       "    </tr>\n",
       "    <tr>\n",
       "      <th>6</th>\n",
       "      <td>How did the key audit matters related to goodw...</td>\n",
       "      <td>In 2015, the key audit matters included recogn...</td>\n",
       "      <td>[{'citation': 'Key audit matters: Recognition ...</td>\n",
       "    </tr>\n",
       "    <tr>\n",
       "      <th>7</th>\n",
       "      <td>How did the number of associates change from 2...</td>\n",
       "      <td>The number of associates increased from 236,00...</td>\n",
       "      <td>[{'citation': 'Associates 236,000', 'document'...</td>\n",
       "    </tr>\n",
       "    <tr>\n",
       "      <th>8</th>\n",
       "      <td>What was the dividend per common share in 2015?</td>\n",
       "      <td>The dividend per common share in 2015 was €0.52.</td>\n",
       "      <td>[{'citation': 'Dividend per common share €0.52...</td>\n",
       "    </tr>\n",
       "    <tr>\n",
       "      <th>9</th>\n",
       "      <td>Come up with 1 question that can only be answe...</td>\n",
       "      <td>How did the company's approach to sustainabili...</td>\n",
       "      <td>[]</td>\n",
       "    </tr>\n",
       "    <tr>\n",
       "      <th>10</th>\n",
       "      <td>List 1 audit type of question that can only be...</td>\n",
       "      <td>How did the auditor's assessment of the compan...</td>\n",
       "      <td>[]</td>\n",
       "    </tr>\n",
       "    <tr>\n",
       "      <th>11</th>\n",
       "      <td>Provide 1 question that can only be answered g...</td>\n",
       "      <td>How did the merger between Ahold and Delhaize ...</td>\n",
       "      <td>[]</td>\n",
       "    </tr>\n",
       "    <tr>\n",
       "      <th>12</th>\n",
       "      <td>Come up with 1 question that can only be answe...</td>\n",
       "      <td>What were the specific sustainability targets ...</td>\n",
       "      <td>[{'citation': 'DELHAIZE GROUP’S 2020 SUSTAINAB...</td>\n",
       "    </tr>\n",
       "  </tbody>\n",
       "</table>\n",
       "</div>"
      ],
      "text/plain": [
       "                                             question  \\\n",
       "0        What is the company's revenue for each year?   \n",
       "1   Have there been any alterations to accounting ...   \n",
       "2   How has the company's strategy changed over th...   \n",
       "3   Summarise the most important changes in the co...   \n",
       "4   Summarise the most important strategic changes...   \n",
       "5   What were the key performance indicators for A...   \n",
       "6   How did the key audit matters related to goodw...   \n",
       "7   How did the number of associates change from 2...   \n",
       "8     What was the dividend per common share in 2015?   \n",
       "9   Come up with 1 question that can only be answe...   \n",
       "10  List 1 audit type of question that can only be...   \n",
       "11  Provide 1 question that can only be answered g...   \n",
       "12  Come up with 1 question that can only be answe...   \n",
       "\n",
       "                                               answer  \\\n",
       "0   Ahold's net sales for 2015 was €38.2bn. Delhai...   \n",
       "1   Ahold Delhaize's 2020 report mentions the impa...   \n",
       "2   In 2015, Ahold's strategic pillars included in...   \n",
       "3   The most significant change in the company's f...   \n",
       "4   The most important strategic change was the me...   \n",
       "5   Key performance indicators for Ahold Delhaize ...   \n",
       "6   In 2015, the key audit matters included recogn...   \n",
       "7   The number of associates increased from 236,00...   \n",
       "8    The dividend per common share in 2015 was €0.52.   \n",
       "9   How did the company's approach to sustainabili...   \n",
       "10  How did the auditor's assessment of the compan...   \n",
       "11  How did the merger between Ahold and Delhaize ...   \n",
       "12  What were the specific sustainability targets ...   \n",
       "\n",
       "                                              sources  \n",
       "0   [{'citation': 'In 2015, we achieved net sales ...  \n",
       "1   [{'citation': 'Due to the implementation of IF...  \n",
       "2   [{'citation': 'These six pillars help us achie...  \n",
       "3   [{'citation': 'On July 24, 2016, the merger be...  \n",
       "4   [{'citation': 'On July 24, 2016, the merger be...  \n",
       "5   [{'citation': 'Net sales €74.736 bn', 'documen...  \n",
       "6   [{'citation': 'Key audit matters: Recognition ...  \n",
       "7   [{'citation': 'Associates 236,000', 'document'...  \n",
       "8   [{'citation': 'Dividend per common share €0.52...  \n",
       "9                                                  []  \n",
       "10                                                 []  \n",
       "11                                                 []  \n",
       "12  [{'citation': 'DELHAIZE GROUP’S 2020 SUSTAINAB...  "
      ]
     },
     "execution_count": 44,
     "metadata": {},
     "output_type": "execute_result"
    }
   ],
   "source": [
    "df_compare_years = pd.DataFrame(\n",
    "    [\n",
    "        answer.model_dump() for answer in audit_answers_compare_years.answers\n",
    "    ]\n",
    ")\n",
    "df_compare_years"
   ]
  },
  {
   "cell_type": "markdown",
   "metadata": {},
   "source": [
    "## Cost estimates"
   ]
  },
  {
   "cell_type": "markdown",
   "metadata": {},
   "source": [
    "Input is primarly images. Gemini converts PDFs to images under the hood. To estimate we use $0.15 per 1M Input tokens <sup> [\\[1\\]](https://cloud.google.com/skus?hl=en&filter=gemini%20Gemini%202.0%20Flash%20input%20vertex%20image&currency=EUR) [\\[2\\]](https://cloud.google.com/vertex-ai/generative-ai/pricing#token-based-pricing) </sup>.\n",
    "\n",
    "Estimate cost for processing annual report of 2024:"
   ]
  },
  {
   "cell_type": "code",
   "execution_count": 42,
   "metadata": {},
   "outputs": [
    {
     "data": {
      "text/plain": [
       "0.0150099"
      ]
     },
     "execution_count": 42,
     "metadata": {},
     "output_type": "execute_result"
    }
   ],
   "source": [
    "response.usage_metadata.total_token_count \\\n",
    "/ 1_000_000 \\\n",
    "* 0.15"
   ]
  },
  {
   "cell_type": "markdown",
   "metadata": {},
   "source": [
    "Estimate cost for all reports together (2,906 pages):"
   ]
  },
  {
   "cell_type": "code",
   "execution_count": 43,
   "metadata": {},
   "outputs": [
    {
     "data": {
      "text/plain": [
       "0.11434305"
      ]
     },
     "execution_count": 43,
     "metadata": {},
     "output_type": "execute_result"
    }
   ],
   "source": [
    "response_compare_years.usage_metadata.total_token_count \\\n",
    "/ 1_000_000 \\\n",
    "* 0.15"
   ]
  },
  {
   "cell_type": "markdown",
   "metadata": {},
   "source": [
    "... this becomes _twice_ as cheap when predicting with [Batch API](https://cloud.google.com/vertex-ai/generative-ai/docs/multimodal/batch-prediction-gemini) instead."
   ]
  }
 ],
 "metadata": {
  "kernelspec": {
   "display_name": ".venv",
   "language": "python",
   "name": "python3"
  },
  "language_info": {
   "codemirror_mode": {
    "name": "ipython",
    "version": 3
   },
   "file_extension": ".py",
   "mimetype": "text/x-python",
   "name": "python",
   "nbconvert_exporter": "python",
   "pygments_lexer": "ipython3",
   "version": "3.13.1"
  }
 },
 "nbformat": 4,
 "nbformat_minor": 2
}
