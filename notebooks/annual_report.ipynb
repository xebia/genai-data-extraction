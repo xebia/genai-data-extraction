{
 "cells": [
  {
   "cell_type": "code",
   "execution_count": 1,
   "metadata": {},
   "outputs": [],
   "source": [
    "from typing import Literal\n",
    "import instructor\n",
    "import vertexai\n",
    "from vertexai.generative_models import GenerativeModel, Part, Image\n",
    "from pydantic import BaseModel"
   ]
  },
  {
   "cell_type": "code",
   "execution_count": 2,
   "metadata": {},
   "outputs": [],
   "source": [
    "vertexai.init(location=\"europe-west4\")\n",
    "\n",
    "client = instructor.from_vertexai(\n",
    "    client=GenerativeModel(\"gemini-2.0-flash\"),\n",
    "    mode=instructor.Mode.VERTEXAI_TOOLS,\n",
    ")"
   ]
  },
  {
   "cell_type": "code",
   "execution_count": 6,
   "metadata": {},
   "outputs": [],
   "source": [
    "report = Part.from_uri(\n",
    "    uri=\"gs://genai-extraction-examples-bucket/ad_annual-report_2024_interactive.pdf\",\n",
    "    mime_type=\"application/pdf\",\n",
    ")"
   ]
  },
  {
   "cell_type": "code",
   "execution_count": 7,
   "metadata": {},
   "outputs": [
    {
     "data": {
      "text/plain": [
       "AuditAnswers(answers=[AuditAnswer(question='Could you specify the time frame these financial statements represent?', answer='The annual report is for the year 2024.', page=1, citation='annual report 2024'), AuditAnswer(question='What accounting standards or principles were applied in the preparation of these statements?', answer='This information is not found in the document.', page=1, citation='growing together'), AuditAnswer(question='Have there been any alterations to accounting policies or practices since prior reporting periods?', answer='This information is not found in the document.', page=1, citation='growing together'), AuditAnswer(question='What process is used to determine and reveal major accounting estimates?', answer='This information is not found in the document.', page=1, citation='growing together'), AuditAnswer(question='What critical assumptions and judgments were utilized in the preparation of these financial statements?', answer='This information is not found in the document.', page=1, citation='growing together'), AuditAnswer(question=\"How would you describe the organization's financial standing and performance as reflected in these statements?\", answer='In 2024, Ahold Delhaize delivered strong results, which are reflected in the outcomes of our short-term and long-term incentives.  The company met all of its key financial goals for the year.  We delivered on our promises with a 4.0% underlying operating margin and a stable underlying EPS and overperformed on free cash flow at €2.5 billion.', page=9, citation='Message from the CEO'), AuditAnswer(question='Do these financial results include any extraordinary or one-time items?', answer='The results include a one-time costs, primarily related to expenses from the closure of underperforming Stop & Shop stores, the transition of stores to affiliates under the Delhaize Belgium Future Plan and an amendment to, and additional funding for, the Dutch pension plan.', page=38, citation='Financial group review'), AuditAnswer(question='Are there any transactions with related parties that are documented in the financial statements?', answer='Ahold Delhaize has entered into arrangements with a number of its subsidiaries and affiliated companies in the course of its business. These arrangements relate to service transactions and financing agreements and were conducted at market prices.', page=46, citation='Financial group review'), AuditAnswer(question='Could you detail the principal elements of operating expenses and their classification?', answer='Operating expenses include impairments, gains (losses) on leases and the sale of assets, restructuring and related charges and other items that management believes can distort an understanding of the trend related to the development of our underlying business.', page=45, citation='Financial group review'), AuditAnswer(question='Are there any asset impairments or write-downs shown in these statements?', answer='Yes, Ahold Delhaize recorded impairment losses and reversals of impairments of assets - net in 2024 and 2023', page=46, citation='Financial group review'), AuditAnswer(question='What accounting treatment is applied to changes in fair value, particularly for financial instruments?', answer='Fair value changes of derivative instruments that qualify for fair value hedge accounting treatment are recognized in the income statement in the periods in which they arise, together with any changes in fair value of the hedged asset or liability.', page=41, citation='Financial group review'), AuditAnswer(question='Do the financial statements disclose any contingent liabilities or ongoing legal issues?', answer=\"Ahold Delhaize is party to one lawsuit in Uruguay related to Ahold Delhaize's 2002 acquisition of Velox Retail Holdings' shares. In 2024, Ahold Delhaize had the right to seek a declaration from the court that none of the current and former members of the Supervisory Board are personally liable.\", page=46, citation='Financial group review'), AuditAnswer(question='Are there any post-reporting period events that might affect the financial results?', answer='Pofi (acquisition closed January 2025)', page=8, citation='Message from our CEO'), AuditAnswer(question=\"How do these statements depict the organization's liquidity and cash flow situation?\", answer='Free cash flow, at €2,545 million, increased by €119 million compared to 2023. Free cash flow increased mainly because of the improvement in operating cash flow and lower capital investments.', page=8, citation='Message from our CEO'), AuditAnswer(question='Have there been any notable shifts in working capital ratios relative to previous periods?', answer='This information is not found in the document.', page=1, citation='growing together'), AuditAnswer(question=\"Could you describe the organization's debt composition and the presentation of interest expenses?\", answer='In 2024, gross debt increased by €2,549 million to €20,315 million, primarily due to the issuance of €1,600 million new bonds and the increase of our short-term borrowings related to the cash held under a notional cash pooling arrangement, partly offset by the repayment of a €750 million bond at maturity.', page=40, citation='Financial group review'), AuditAnswer(question='What accounting and presentation methods are used for taxes in these financial statements?', answer='In 2024, income tax expense was €481 million, €25 million higher compared to €456 million in 2023. The effective tax rate was 21.7% in 2024 (2023: 19.8%).', page=46, citation='Financial group review'), AuditAnswer(question='Are there any contractual commitments or obligations outlined in these statements?', answer='Ahold Delhaize has a committed, unsecured, multi-currency and syndicated revolving credit facility that is available and also has other financial commitments', page=39, citation='Financial group review'), AuditAnswer(question='Could you provide a detailed breakdown of equity, including movements in retained earnings?', answer='Group equity increased by  €700 million in 2024', page=46, citation='Financial group review'), AuditAnswer(question='If relevant, what accounting treatment is applied to foreign currency transactions and translation?', answer=\"The majority of the Ahold Delhaize brands' operations are located in the United States and denominated in U.S. dollars, which is translated into euros for consolidated results. The U.S. dollar was in decline throughout the first three quarters of 2024.\", page=41, citation='Financial group review'), AuditAnswer(question='Are there any significant differences or contradictions found within these financial statements?', answer='This information is not found in the document.', page=1, citation='growing together'), AuditAnswer(question=\"Could you explain the organization's approach to recognizing revenue and its implementation?\", answer='Ahold Delhaize generates and recognizes net sales to retail customers as it satisfies its performance obligation at the point of sale in its stores and upon delivery of goods through its online channel', page=263, citation='financial statements'), AuditAnswer(question='What process is used to determine and disclose provisions for doubtful accounts and bad debts?', answer='In 2024 and 2023, we use a different method which allows for better evaluation to the customer. In both scenarios, better data can be created and bad debts can be measured more clearly.', page=41, citation='Financial group review'), AuditAnswer(question='Are there any major events or transactions that might affect the ability to compare these statements with others?', answer=\"In 2024, the group's results were affected by a shift to 100% affiliation for stores in Belgium.\", page=38, citation='Financial group review'), AuditAnswer(question='How does the organization handle risk management, and how is this communicated?', answer='Each year, the group is evaluated for all aspects of management and compliance.', page=226, citation='governance, risk and compliance'), AuditAnswer(question='What accounting treatment is used for gains or losses from asset disposals in these statements?', answer='Ahold Delhaize recorded the following (gains) losses on leases and the sale of assets - net in 2024 and 2023', page=46, citation='Financial group review'), AuditAnswer(question='Are there any non-operating revenues or expenses that influence these financial statements?', answer='This information is not found in the document.', page=1, citation='growing together'), AuditAnswer(question='Could you describe the nature and extent of the audit or review procedures carried out on these statements?', answer='We have exercised professional judgement and have maintained professional skepticism throughout the audit, in accordance with Dutch Standards on Auditing, ethical requirements and independence requirements. Our audit included among others, identifying and assessing the risks of material misstatement of the financial statements, whether due to fraud or error, designing and performing audit procedures responsive to those risks, and obtaining audit evidence that is sufficient and appropriate to provide a basis for our opinion.', page=339, citation='Financial statements')])"
      ]
     },
     "execution_count": 7,
     "metadata": {},
     "output_type": "execute_result"
    }
   ],
   "source": [
    "class AuditAnswer(BaseModel):\n",
    "    question: str\n",
    "    answer: str\n",
    "    page: int\n",
    "    citation: str\n",
    "\n",
    "class AuditAnswers(BaseModel):\n",
    "    answers: list[AuditAnswer]\n",
    "\n",
    "\n",
    "client.create(\n",
    "    messages=[\n",
    "        (\n",
    "            \"Answer the following questions:\"\n",
    "            \"- Could you specify the time frame these financial statements represent? \"\n",
    "            \"- What accounting standards or principles were applied in the preparation of these statements? \"\n",
    "            \"- Have there been any alterations to accounting policies or practices since prior reporting periods? \"\n",
    "            \"- What process is used to determine and reveal major accounting estimates? \"\n",
    "            \"- What critical assumptions and judgments were utilized in the preparation of these financial statements? \"\n",
    "            \"- How would you describe the organization's financial standing and performance as reflected in these statements? \"\n",
    "            \"- Do these financial results include any extraordinary or one-time items? \"\n",
    "            \"- Are there any transactions with related parties that are documented in the financial statements? \"\n",
    "            \"- Could you detail the principal elements of operating expenses and their classification? \"\n",
    "            \"- Are there any asset impairments or write-downs shown in these statements? \"\n",
    "            \"- What accounting treatment is applied to changes in fair value, particularly for financial instruments? \"\n",
    "            \"- Do the financial statements disclose any contingent liabilities or ongoing legal issues? \"\n",
    "            \"- Are there any post-reporting period events that might affect the financial results? \"\n",
    "            \"- How do these statements depict the organization's liquidity and cash flow situation? \"\n",
    "            \"- Have there been any notable shifts in working capital ratios relative to previous periods? \"\n",
    "            \"- Could you describe the organization's debt composition and the presentation of interest expenses? \"\n",
    "            \"- What accounting and presentation methods are used for taxes in these financial statements? \"\n",
    "            \"- Are there any contractual commitments or obligations outlined in these statements? \"\n",
    "            \"- Could you provide a detailed breakdown of equity, including movements in retained earnings? \"\n",
    "            \"- If relevant, what accounting treatment is applied to foreign currency transactions and translation? \"\n",
    "            \"- Are there any significant differences or contradictions found within these financial statements? \"\n",
    "            \"- Could you explain the organization's approach to recognizing revenue and its implementation? \"\n",
    "            \"- What process is used to determine and disclose provisions for doubtful accounts and bad debts? \"\n",
    "            \"- Are there any major events or transactions that might affect the ability to compare these statements with others? \"\n",
    "            \"- How does the organization handle risk management, and how is this communicated? \"\n",
    "            \"- What accounting treatment is used for gains or losses from asset disposals in these statements? \"\n",
    "            \"- Are there any non-operating revenues or expenses that influence these financial statements? \"\n",
    "            \"- Could you describe the nature and extent of the audit or review procedures carried out on these statements? \"\n",
    "            \"... using the attached annual statement PDF.\"\n",
    "        ),\n",
    "        report\n",
    "    ],\n",
    "    response_model=AuditAnswers,\n",
    ")"
   ]
  }
 ],
 "metadata": {
  "kernelspec": {
   "display_name": ".venv",
   "language": "python",
   "name": "python3"
  },
  "language_info": {
   "codemirror_mode": {
    "name": "ipython",
    "version": 3
   },
   "file_extension": ".py",
   "mimetype": "text/x-python",
   "name": "python",
   "nbconvert_exporter": "python",
   "pygments_lexer": "ipython3",
   "version": "3.13.1"
  }
 },
 "nbformat": 4,
 "nbformat_minor": 2
}
