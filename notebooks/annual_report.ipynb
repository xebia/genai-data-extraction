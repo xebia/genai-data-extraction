{
 "cells": [
  {
   "cell_type": "code",
   "execution_count": null,
   "metadata": {},
   "outputs": [],
   "source": [
    "from google import genai\n",
    "from google.genai import types\n",
    "from pydantic import BaseModel, Field\n",
    "import pandas as pd\n",
    "from pathlib import Path\n",
    "import requests"
   ]
  },
  {
   "cell_type": "code",
   "execution_count": null,
   "metadata": {},
   "outputs": [],
   "source": [
    "client = genai.Client(\n",
    "    vertexai=True,\n",
    "    location='europe-west4'\n",
    ")"
   ]
  },
  {
   "cell_type": "code",
   "execution_count": null,
   "metadata": {},
   "outputs": [],
   "source": [
    "pdf_path = Path(\"../data/ad_annual-report_2024_interactive.pdf\")\n",
    "\n",
    "report_2024 = types.Part.from_bytes(\n",
    "    data=pdf_path.read_bytes(),\n",
    "    mime_type=\"application/pdf\",\n",
    ")"
   ]
  },
  {
   "cell_type": "code",
   "execution_count": null,
   "metadata": {},
   "outputs": [],
   "source": [
    "prompt: str = \"\"\"\n",
    "Answer the following questions:\n",
    "\n",
    "0. What accounting standards or principles were applied in the preparation of these statements?\n",
    "1. Do these financial results include any extraordinary or one-time items?\n",
    "2. Could you specify the time frame these financial statements represent?\n",
    "3. Are there any transactions with related parties that are documented in the financial statements?\n",
    "4. Could you detail the principal elements of operating expenses and their classification?\n",
    "5. Have there been any alterations to accounting policies or practices since prior reporting periods?\n",
    "6. What process is used to determine and reveal major accounting estimates?\n",
    "7. What accounting and presentation methods are used for taxes in these financial statements?\n",
    "8. Are there any contractual commitments or obligations outlined in these statements?\n",
    "9. Could you describe the nature and extent of the audit or review procedures carried out on these statements?\n",
    "\n",
    "... using the attached annual statement PDF.\n",
    "\"\"\""
   ]
  },
  {
   "cell_type": "code",
   "execution_count": null,
   "metadata": {},
   "outputs": [],
   "source": [
    "class AnswerSource(BaseModel):\n",
    "    citation: str = Field(description=\"A text citation of the answer in the source document.\")\n",
    "    document: str\n",
    "    page: int\n",
    "    \n",
    "\n",
    "class AuditAnswer(BaseModel):\n",
    "    question: str\n",
    "    answer: str | None\n",
    "    sources: list[AnswerSource]"
   ]
  },
  {
   "cell_type": "code",
   "execution_count": null,
   "metadata": {},
   "outputs": [],
   "source": [
    "response = client.models.generate_content(\n",
    "    model='gemini-2.0-flash-001',\n",
    "    contents=[\n",
    "        prompt,\n",
    "        report_2024\n",
    "    ],\n",
    "    config=types.GenerateContentConfig(\n",
    "        temperature=0.2,\n",
    "        response_mime_type='application/json',\n",
    "        response_schema=list[AuditAnswer],\n",
    "    ),\n",
    ")\n",
    "audit_answers: list[AuditAnswer] = response.parsed\n",
    "audit_answers"
   ]
  },
  {
   "cell_type": "code",
   "execution_count": null,
   "metadata": {},
   "outputs": [],
   "source": [
    "df = pd.DataFrame(\n",
    "    [\n",
    "        answer.model_dump() for answer in audit_answers\n",
    "    ]\n",
    ")\n",
    "df"
   ]
  },
  {
   "cell_type": "markdown",
   "metadata": {},
   "source": [
    "## Going bigger"
   ]
  },
  {
   "cell_type": "code",
   "execution_count": null,
   "metadata": {},
   "outputs": [],
   "source": [
    "def online_pdf_to_part(url: str) -> types.Part:\n",
    "    response = requests.get(url)\n",
    "    return types.Part.from_bytes(\n",
    "        data=response.content,\n",
    "        mime_type=\"application/pdf\",\n",
    "    )"
   ]
  },
  {
   "cell_type": "code",
   "execution_count": null,
   "metadata": {},
   "outputs": [],
   "source": [
    "prompt_compare_years: str = \"\"\"\n",
    "Answer the following questions:\n",
    "\n",
    "- What is the company's revenue for each year?\n",
    "- Have there been any alterations to accounting policies or practices since prior reporting periods?\n",
    "- How has the company's strategy changed over the years?\n",
    "- Summarise the most important changes in the company's financial position over the years.\n",
    "- Summarise the most important strategic changes over the years.\n",
    "- What were the key performance indicators for Ahold Delhaize in 2020, and how did they compare to the targets set for 2020, as well as the actual results achieved in 2015?\n",
    "- How did the key audit matters related to goodwill and brand names change from 2015 to 2020?\n",
    "- How did the number of associates change from 2015 to 2020?\n",
    "- What was the dividend per common share in 2015?\n",
    "\n",
    "... using the attached annual statements.\n",
    "\"\"\""
   ]
  },
  {
   "cell_type": "code",
   "execution_count": null,
   "metadata": {},
   "outputs": [],
   "source": [
    "response_compare_years = client.models.generate_content(\n",
    "    model='gemini-2.0-flash-001',\n",
    "    contents=[\n",
    "        prompt_compare_years,\n",
    "        \"Ahold 2015 annual report:\",\n",
    "        online_pdf_to_part(\"https://www.aholddelhaize.com/media/as2deaxh/ahold_ar15_fullreport_interactive.pdf\"),\n",
    "        \"Delhaize 2015 annual report:\",\n",
    "        online_pdf_to_part(\"https://www.aholddelhaize.com/media/4s3h52sq/2015_annualreport_en.pdf\"),\n",
    "        \"Ahold Delhaize 2016 annual report:\",\n",
    "        online_pdf_to_part(\"https://www.aholddelhaize.com/media/s1pjua0t/ahold-delhaize-annual-report-2016.pdf\"),\n",
    "        \"Ahold Delhaize 2017 annual report:\",\n",
    "        online_pdf_to_part(\"https://www.aholddelhaize.com/media/g1ujnffp/180302_aholddelhaize_annualreport_2017.pdf\"),\n",
    "        \"Ahold Delhaize 2018 annual report:\",\n",
    "        online_pdf_to_part(\"https://www.aholddelhaize.com/media/rsjhnqh4/ahold-delhaize-annual-report-2018-interactive.pdf\"),\n",
    "        \"Ahold Delhaize 2019 annual report:\",\n",
    "        online_pdf_to_part(\"https://www.aholddelhaize.com/media/1xbnvzzk/ahold-delhaize-annual-report-2019.pdf\"),\n",
    "        \"Ahold Delhaize 2020 annual report:\",\n",
    "        online_pdf_to_part(\"https://www.aholddelhaize.com/media/emmkj0we/annual_report_2020_full_links-1.pdf\"),\n",
    "        \"Ahold Delhaize 2021 annual report:\",\n",
    "        online_pdf_to_part(\"https://www.aholddelhaize.com/media/1l5iqhvt/full-annual-report-2021.pdf\"),\n",
    "        \"Ahold Delhaize 2022 annual report:\",\n",
    "        online_pdf_to_part(\"https://www.aholddelhaize.com/media/vy4neu1n/ar-2022-ahold-delhaize-interactive-final.pdf\"),\n",
    "        \"Ahold Delhaize 2023 annual report:\",\n",
    "        online_pdf_to_part(\"https://www.aholddelhaize.com/media/clkbibno/ad_ar23_interactive.pdf\"),\n",
    "        \"Ahold Delhaize 2024 annual report:\",\n",
    "        report_2024\n",
    "    ],\n",
    "    config=types.GenerateContentConfig(\n",
    "        temperature=0.2,\n",
    "        response_mime_type='application/json',\n",
    "        response_schema=list[AuditAnswer],\n",
    "    ),\n",
    ")\n",
    "audit_answers_compare_years: list[AuditAnswer] = response_compare_years.parsed\n",
    "audit_answers_compare_years"
   ]
  },
  {
   "cell_type": "code",
   "execution_count": null,
   "metadata": {},
   "outputs": [],
   "source": [
    "df_compare_years = pd.DataFrame(\n",
    "    [\n",
    "        answer.model_dump() for answer in audit_answers_compare_years\n",
    "    ]\n",
    ")\n",
    "df_compare_years"
   ]
  },
  {
   "cell_type": "markdown",
   "metadata": {},
   "source": [
    "## Cost estimates"
   ]
  },
  {
   "cell_type": "markdown",
   "metadata": {},
   "source": [
    "Input is primarly images. Gemini converts PDFs to images under the hood. To estimate we use $0.15 per 1M Input tokens <sup> [\\[1\\]](https://cloud.google.com/skus?hl=en&filter=gemini%20Gemini%202.0%20Flash%20input%20vertex%20image&currency=EUR) [\\[2\\]](https://cloud.google.com/vertex-ai/generative-ai/pricing#token-based-pricing) </sup>.\n",
    "\n",
    "Estimate cost for processing annual report of 2024:"
   ]
  },
  {
   "cell_type": "code",
   "execution_count": null,
   "metadata": {},
   "outputs": [],
   "source": [
    "response.usage_metadata.total_token_count \\\n",
    "/ 1_000_000 \\\n",
    "* 0.15"
   ]
  },
  {
   "cell_type": "markdown",
   "metadata": {},
   "source": [
    "Estimate cost for all reports together (2,906 pages):"
   ]
  },
  {
   "cell_type": "code",
   "execution_count": null,
   "metadata": {},
   "outputs": [],
   "source": [
    "response_compare_years.usage_metadata.total_token_count \\\n",
    "/ 1_000_000 \\\n",
    "* 0.15"
   ]
  },
  {
   "cell_type": "markdown",
   "metadata": {},
   "source": [
    "... this becomes _twice_ as cheap when predicting with [Batch API](https://cloud.google.com/vertex-ai/generative-ai/docs/multimodal/batch-prediction-gemini) instead."
   ]
  }
 ],
 "metadata": {
  "kernelspec": {
   "display_name": ".venv",
   "language": "python",
   "name": "python3"
  },
  "language_info": {
   "codemirror_mode": {
    "name": "ipython",
    "version": 3
   },
   "file_extension": ".py",
   "mimetype": "text/x-python",
   "name": "python",
   "nbconvert_exporter": "python",
   "pygments_lexer": "ipython3",
   "version": "3.13.1"
  }
 },
 "nbformat": 4,
 "nbformat_minor": 2
}
