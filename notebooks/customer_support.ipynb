{
 "cells": [
  {
   "cell_type": "code",
   "execution_count": null,
   "metadata": {},
   "outputs": [],
   "source": [
    "from google import genai\n",
    "from google.genai import types\n",
    "from pydantic import BaseModel\n",
    "from typing import Literal\n",
    "from pathlib import Path"
   ]
  },
  {
   "cell_type": "code",
   "execution_count": 3,
   "metadata": {},
   "outputs": [],
   "source": [
    "client = genai.Client(\n",
    "    vertexai=True,\n",
    "    location='europe-west4'\n",
    ")"
   ]
  },
  {
   "cell_type": "code",
   "execution_count": 4,
   "metadata": {},
   "outputs": [],
   "source": [
    "audio_path = Path(\"../data/customer_support_call.m4a\")\n",
    "\n",
    "audio = types.Part.from_bytes(\n",
    "    data=audio_path.read_bytes(),\n",
    "    mime_type=\"audio/x-m4a\"\n",
    ")"
   ]
  },
  {
   "cell_type": "code",
   "execution_count": 27,
   "metadata": {},
   "outputs": [
    {
     "data": {
      "text/plain": [
       "CallSummary(customer_email='john.davis@email.com', topics_discussed=['Login issues', 'Password reset', 'Browser troubleshooting', 'Multi-factor authentication (MFA)'], problem_description='Customer is unable to log in to their SparkleNet account despite resetting their password and being sure they are using the correct credentials.', root_cause='The password reset from the previous day was not fully processed due to a temporary glitch in the system.', solution='The customer support agent manually triggered a new password reset. The customer received an email with a link to create a new password and was able to log in after resetting it.', problem_resolved=True, customer_happiness='Happy')"
      ]
     },
     "execution_count": 27,
     "metadata": {},
     "output_type": "execute_result"
    }
   ],
   "source": [
    "class CallSummary(BaseModel):\n",
    "    customer_email: str\n",
    "    topics_discussed: list[str]\n",
    "    problem_description: str\n",
    "    root_cause: str\n",
    "    solution: str\n",
    "    problem_resolved: bool\n",
    "    customer_happiness: Literal[\n",
    "        \"Unhappy\",\n",
    "        \"Neutral\",\n",
    "        \"Happy\",\n",
    "    ]\n",
    "\n",
    "response = client.models.generate_content(\n",
    "    model='gemini-2.0-flash-001',\n",
    "    contents=[\n",
    "        \"Find below a SparkleNet Customer Support conversation.\",\n",
    "        audio,\n",
    "    ],\n",
    "    config=types.GenerateContentConfig(\n",
    "        temperature=0.2,\n",
    "        response_mime_type='application/json',\n",
    "        response_schema=CallSummary,\n",
    "    ),\n",
    ")   \n",
    "call_summary: CallSummary = response.parsed\n",
    "call_summary"
   ]
  },
  {
   "cell_type": "code",
   "execution_count": 28,
   "metadata": {},
   "outputs": [
    {
     "name": "stdout",
     "output_type": "stream",
     "text": [
      "{\n",
      "  \"customer_email\": \"john.davis@email.com\",\n",
      "  \"topics_discussed\": [\n",
      "    \"Login issues\",\n",
      "    \"Password reset\",\n",
      "    \"Browser troubleshooting\",\n",
      "    \"Multi-factor authentication (MFA)\"\n",
      "  ],\n",
      "  \"problem_description\": \"Customer is unable to log in to their SparkleNet account despite resetting their password and being sure they are using the correct credentials.\",\n",
      "  \"root_cause\": \"The password reset from the previous day was not fully processed due to a temporary glitch in the system.\",\n",
      "  \"solution\": \"The customer support agent manually triggered a new password reset. The customer received an email with a link to create a new password and was able to log in after resetting it.\",\n",
      "  \"problem_resolved\": true,\n",
      "  \"customer_happiness\": \"Happy\"\n",
      "}\n"
     ]
    }
   ],
   "source": [
    "print(call_summary.model_dump_json(indent=2))"
   ]
  },
  {
   "cell_type": "markdown",
   "metadata": {},
   "source": [
    "## Cost estimates"
   ]
  },
  {
   "cell_type": "code",
   "execution_count": 19,
   "metadata": {},
   "outputs": [
    {
     "data": {
      "text/plain": [
       "0.008323"
      ]
     },
     "execution_count": 19,
     "metadata": {},
     "output_type": "execute_result"
    }
   ],
   "source": [
    "response.usage_metadata.total_token_count \\\n",
    "/ 1_000_000 \\\n",
    "* 1.00"
   ]
  },
  {
   "cell_type": "markdown",
   "metadata": {},
   "source": [
    "## Tabular format"
   ]
  },
  {
   "cell_type": "code",
   "execution_count": 3,
   "metadata": {},
   "outputs": [
    {
     "data": {
      "application/vnd.microsoft.datawrangler.viewer.v0+json": {
       "columns": [
        {
         "name": "index",
         "rawType": "int64",
         "type": "integer"
        },
        {
         "name": "customer_email",
         "rawType": "object",
         "type": "string"
        },
        {
         "name": "topics_discussed",
         "rawType": "object",
         "type": "unknown"
        },
        {
         "name": "problem_description",
         "rawType": "object",
         "type": "string"
        },
        {
         "name": "root_cause",
         "rawType": "object",
         "type": "string"
        },
        {
         "name": "solution",
         "rawType": "object",
         "type": "string"
        },
        {
         "name": "problem_resolved",
         "rawType": "bool",
         "type": "boolean"
        },
        {
         "name": "customer_happiness",
         "rawType": "object",
         "type": "string"
        }
       ],
       "conversionMethod": "pd.DataFrame",
       "ref": "4ebc245c-fb70-49e5-84a2-7b47d789b454",
       "rows": [
        [
         "0",
         "john.davis@email.com",
         "['Login issues', 'Password reset', 'Browser troubleshooting', 'Multi-factor authentication (MFA)']",
         "Customer is unable to log in to their SparkleNet account despite resetting their password and being sure they are using the correct credentials.",
         "The password reset from the previous day was not fully processed due to a temporary glitch in the system.",
         "The customer support agent manually triggered a new password reset. The customer received an email with a link to create a new password and was able to log in after resetting it.",
         "True",
         "Happy"
        ],
        [
         "1",
         "jane.smith@example.net",
         "['Subscription cancellation', 'Billing inquiry', 'Refund request', 'Account closure']",
         "Customer requested to cancel their premium subscription and receive a refund for the remaining unused period.",
         "The customer was not aware of the automatic subscription renewal policy and found the service no longer necessary.",
         "The agent processed the subscription cancellation and issued a partial refund based on the remaining subscription period. The customer received a confirmation email with the refund details.",
         "True",
         "Neutral"
        ],
        [
         "2",
         "michael.lee@domain.org",
         "['Software installation', 'Error messages', 'System compatibility', 'License activation']",
         "Customer encountered multiple error messages during the software installation process and was unable to activate their license.",
         "The customer's operating system was not compatible with the latest software version, and the license key was entered incorrectly.",
         "The agent verified the customer's operating system and guided them through installing a compatible version. The agent also assisted with correcting the license key and activating the software.",
         "True",
         "Happy"
        ],
        [
         "3",
         "sara.jones@service.com",
         "['Data synchronization', 'Mobile app issues', 'Cloud storage', 'Account settings']",
         "Customer reported that their data was not synchronizing correctly between their mobile app and cloud storage.",
         "The mobile app was outdated and had a known bug related to data synchronization. The customer's internet connection was also unstable.",
         "The agent instructed the customer to update their mobile app to the latest version and provided troubleshooting steps for their internet connection. The data synchronization issue was resolved after the update and stable connection.",
         "True",
         "Happy"
        ],
        [
         "4",
         "david.wilson@corp.net",
         "['API integration', 'Documentation clarification', 'Rate limiting', 'Error codes']",
         "Customer was experiencing issues integrating their system with the company's API and had questions about the documentation and rate limiting.",
         "The API documentation was ambiguous in certain sections, and the customer was exceeding the rate limit unintentionally.",
         "The agent provided detailed clarification on the documentation and explained the rate limiting policy. The agent also provided code examples to help with the integration. The customer was able to successfully integrate their system.",
         "True",
         "Unhappy"
        ]
       ],
       "shape": {
        "columns": 7,
        "rows": 5
       }
      },
      "text/html": [
       "<div>\n",
       "<style scoped>\n",
       "    .dataframe tbody tr th:only-of-type {\n",
       "        vertical-align: middle;\n",
       "    }\n",
       "\n",
       "    .dataframe tbody tr th {\n",
       "        vertical-align: top;\n",
       "    }\n",
       "\n",
       "    .dataframe thead th {\n",
       "        text-align: right;\n",
       "    }\n",
       "</style>\n",
       "<table border=\"1\" class=\"dataframe\">\n",
       "  <thead>\n",
       "    <tr style=\"text-align: right;\">\n",
       "      <th></th>\n",
       "      <th>customer_email</th>\n",
       "      <th>topics_discussed</th>\n",
       "      <th>problem_description</th>\n",
       "      <th>root_cause</th>\n",
       "      <th>solution</th>\n",
       "      <th>problem_resolved</th>\n",
       "      <th>customer_happiness</th>\n",
       "    </tr>\n",
       "  </thead>\n",
       "  <tbody>\n",
       "    <tr>\n",
       "      <th>0</th>\n",
       "      <td>john.davis@email.com</td>\n",
       "      <td>[Login issues, Password reset, Browser trouble...</td>\n",
       "      <td>Customer is unable to log in to their SparkleN...</td>\n",
       "      <td>The password reset from the previous day was n...</td>\n",
       "      <td>The customer support agent manually triggered ...</td>\n",
       "      <td>True</td>\n",
       "      <td>Happy</td>\n",
       "    </tr>\n",
       "    <tr>\n",
       "      <th>1</th>\n",
       "      <td>jane.smith@example.net</td>\n",
       "      <td>[Subscription cancellation, Billing inquiry, R...</td>\n",
       "      <td>Customer requested to cancel their premium sub...</td>\n",
       "      <td>The customer was not aware of the automatic su...</td>\n",
       "      <td>The agent processed the subscription cancellat...</td>\n",
       "      <td>True</td>\n",
       "      <td>Neutral</td>\n",
       "    </tr>\n",
       "    <tr>\n",
       "      <th>2</th>\n",
       "      <td>michael.lee@domain.org</td>\n",
       "      <td>[Software installation, Error messages, System...</td>\n",
       "      <td>Customer encountered multiple error messages d...</td>\n",
       "      <td>The customer's operating system was not compat...</td>\n",
       "      <td>The agent verified the customer's operating sy...</td>\n",
       "      <td>True</td>\n",
       "      <td>Happy</td>\n",
       "    </tr>\n",
       "    <tr>\n",
       "      <th>3</th>\n",
       "      <td>sara.jones@service.com</td>\n",
       "      <td>[Data synchronization, Mobile app issues, Clou...</td>\n",
       "      <td>Customer reported that their data was not sync...</td>\n",
       "      <td>The mobile app was outdated and had a known bu...</td>\n",
       "      <td>The agent instructed the customer to update th...</td>\n",
       "      <td>True</td>\n",
       "      <td>Happy</td>\n",
       "    </tr>\n",
       "    <tr>\n",
       "      <th>4</th>\n",
       "      <td>david.wilson@corp.net</td>\n",
       "      <td>[API integration, Documentation clarification,...</td>\n",
       "      <td>Customer was experiencing issues integrating t...</td>\n",
       "      <td>The API documentation was ambiguous in certain...</td>\n",
       "      <td>The agent provided detailed clarification on t...</td>\n",
       "      <td>True</td>\n",
       "      <td>Unhappy</td>\n",
       "    </tr>\n",
       "  </tbody>\n",
       "</table>\n",
       "</div>"
      ],
      "text/plain": [
       "           customer_email                                   topics_discussed  \\\n",
       "0    john.davis@email.com  [Login issues, Password reset, Browser trouble...   \n",
       "1  jane.smith@example.net  [Subscription cancellation, Billing inquiry, R...   \n",
       "2  michael.lee@domain.org  [Software installation, Error messages, System...   \n",
       "3  sara.jones@service.com  [Data synchronization, Mobile app issues, Clou...   \n",
       "4   david.wilson@corp.net  [API integration, Documentation clarification,...   \n",
       "\n",
       "                                 problem_description  \\\n",
       "0  Customer is unable to log in to their SparkleN...   \n",
       "1  Customer requested to cancel their premium sub...   \n",
       "2  Customer encountered multiple error messages d...   \n",
       "3  Customer reported that their data was not sync...   \n",
       "4  Customer was experiencing issues integrating t...   \n",
       "\n",
       "                                          root_cause  \\\n",
       "0  The password reset from the previous day was n...   \n",
       "1  The customer was not aware of the automatic su...   \n",
       "2  The customer's operating system was not compat...   \n",
       "3  The mobile app was outdated and had a known bu...   \n",
       "4  The API documentation was ambiguous in certain...   \n",
       "\n",
       "                                            solution  problem_resolved  \\\n",
       "0  The customer support agent manually triggered ...              True   \n",
       "1  The agent processed the subscription cancellat...              True   \n",
       "2  The agent verified the customer's operating sy...              True   \n",
       "3  The agent instructed the customer to update th...              True   \n",
       "4  The agent provided detailed clarification on t...              True   \n",
       "\n",
       "  customer_happiness  \n",
       "0              Happy  \n",
       "1            Neutral  \n",
       "2              Happy  \n",
       "3              Happy  \n",
       "4            Unhappy  "
      ]
     },
     "execution_count": 3,
     "metadata": {},
     "output_type": "execute_result"
    }
   ],
   "source": [
    "import pandas as pd\n",
    "pd.read_json(\"../data/customer_service_call_reports.json\")"
   ]
  }
 ],
 "metadata": {
  "kernelspec": {
   "display_name": ".venv",
   "language": "python",
   "name": "python3"
  },
  "language_info": {
   "codemirror_mode": {
    "name": "ipython",
    "version": 3
   },
   "file_extension": ".py",
   "mimetype": "text/x-python",
   "name": "python",
   "nbconvert_exporter": "python",
   "pygments_lexer": "ipython3",
   "version": "3.13.1"
  }
 },
 "nbformat": 4,
 "nbformat_minor": 2
}
