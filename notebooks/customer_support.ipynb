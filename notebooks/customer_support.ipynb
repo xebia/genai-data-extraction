{
 "cells": [
  {
   "cell_type": "code",
   "execution_count": 10,
   "metadata": {},
   "outputs": [],
   "source": [
    "from google import genai\n",
    "from google.genai import types\n",
    "from pydantic import BaseModel, Field\n",
    "from typing import Literal\n",
    "from pathlib import Path"
   ]
  },
  {
   "cell_type": "code",
   "execution_count": 11,
   "metadata": {},
   "outputs": [],
   "source": [
    "client = genai.Client(\n",
    "    vertexai=True,\n",
    "    location='europe-west4'\n",
    ")"
   ]
  },
  {
   "cell_type": "code",
   "execution_count": 12,
   "metadata": {},
   "outputs": [],
   "source": [
    "audio_path = Path(\"../data/customer_support_call.m4a\")\n",
    "\n",
    "audio = types.Part.from_bytes(\n",
    "    data=audio_path.read_bytes(),\n",
    "    mime_type=\"audio/x-m4a\"\n",
    ")"
   ]
  },
  {
   "cell_type": "code",
   "execution_count": 13,
   "metadata": {},
   "outputs": [
    {
     "data": {
      "text/plain": [
       "CallSummary(customer_email='john.davis@email.com', topics_discussed=['login issues', 'password reset', 'browser troubleshooting', 'multi-factor authentication'], resolved=True, customer_sentiment='Happy', problem='Customer was unable to log into his SparkleNet account despite resetting his password.', root_cause='The password reset was not fully processed on the system due to a temporary glitch.', solution='The customer support agent manually triggered a new password reset, and the customer was able to log in after resetting his password. The agent also provided information about multi-factor authentication.')"
      ]
     },
     "execution_count": 13,
     "metadata": {},
     "output_type": "execute_result"
    }
   ],
   "source": [
    "class CallSummary(BaseModel):\n",
    "    customer_email: str\n",
    "    topics_discussed: list[str]\n",
    "    resolved: bool = Field(description=\"Whether the customer's problem was resolved.\")\n",
    "    customer_sentiment: Literal[\n",
    "        \"Unhappy\",\n",
    "        \"Neutral\",\n",
    "        \"Happy\",\n",
    "    ]\n",
    "    problem: str = Field(description=\"The customer's problem.\")\n",
    "    root_cause: str\n",
    "    solution: str\n",
    "\n",
    "response = client.models.generate_content(\n",
    "    model='gemini-2.0-flash-001',\n",
    "    contents=[\n",
    "        \"Find below a SparkleNet Customer Support conversation.\",\n",
    "        audio,\n",
    "    ],\n",
    "    config=types.GenerateContentConfig(\n",
    "        temperature=0.2,\n",
    "        response_mime_type='application/json',\n",
    "        response_schema=CallSummary,\n",
    "    ),\n",
    ")\n",
    "call_summary: CallSummary = response.parsed\n",
    "call_summary"
   ]
  },
  {
   "cell_type": "code",
   "execution_count": 14,
   "metadata": {},
   "outputs": [
    {
     "name": "stdout",
     "output_type": "stream",
     "text": [
      "{\n",
      "  \"customer_email\": \"john.davis@email.com\",\n",
      "  \"topics_discussed\": [\n",
      "    \"login issues\",\n",
      "    \"password reset\",\n",
      "    \"browser troubleshooting\",\n",
      "    \"multi-factor authentication\"\n",
      "  ],\n",
      "  \"resolved\": true,\n",
      "  \"customer_sentiment\": \"Happy\",\n",
      "  \"problem\": \"Customer was unable to log into his SparkleNet account despite resetting his password.\",\n",
      "  \"root_cause\": \"The password reset was not fully processed on the system due to a temporary glitch.\",\n",
      "  \"solution\": \"The customer support agent manually triggered a new password reset, and the customer was able to log in after resetting his password. The agent also provided information about multi-factor authentication.\"\n",
      "}\n"
     ]
    }
   ],
   "source": [
    "print(call_summary.model_dump_json(indent=2))"
   ]
  },
  {
   "cell_type": "markdown",
   "metadata": {},
   "source": [
    "## Cost estimates"
   ]
  },
  {
   "cell_type": "code",
   "execution_count": 15,
   "metadata": {},
   "outputs": [
    {
     "data": {
      "text/plain": [
       "0.008406"
      ]
     },
     "execution_count": 15,
     "metadata": {},
     "output_type": "execute_result"
    }
   ],
   "source": [
    "response.usage_metadata.total_token_count \\\n",
    "/ 1_000_000 \\\n",
    "* 1.00"
   ]
  },
  {
   "cell_type": "markdown",
   "metadata": {},
   "source": [
    "## Tabular format"
   ]
  },
  {
   "cell_type": "code",
   "execution_count": 21,
   "metadata": {},
   "outputs": [
    {
     "data": {
      "application/vnd.microsoft.datawrangler.viewer.v0+json": {
       "columns": [
        {
         "name": "index",
         "rawType": "int64",
         "type": "integer"
        },
        {
         "name": "customer_email",
         "rawType": "object",
         "type": "string"
        },
        {
         "name": "topics_discussed",
         "rawType": "object",
         "type": "unknown"
        },
        {
         "name": "resolved",
         "rawType": "bool",
         "type": "boolean"
        },
        {
         "name": "sentiment",
         "rawType": "object",
         "type": "string"
        },
        {
         "name": "problem",
         "rawType": "object",
         "type": "string"
        },
        {
         "name": "root_cause",
         "rawType": "object",
         "type": "string"
        },
        {
         "name": "solution",
         "rawType": "object",
         "type": "string"
        }
       ],
       "conversionMethod": "pd.DataFrame",
       "ref": "9039f627-9edd-4fb7-8741-b29c9bdbfb48",
       "rows": [
        [
         "0",
         "alice.smith@email.net",
         "['billing inquiry', 'subscription cancellation', 'refund request']",
         "True",
         "Neutral",
         "Customer wanted to cancel her subscription and receive a refund for the current month.",
         "Customer was unhappy with the new features and found them confusing.",
         "Agent cancelled the subscription effective immediately and processed a partial refund for the current month.  Agent also offered a discount if she decided to rejoin in the future."
        ],
        [
         "1",
         "bob.jones@example.org",
         "['technical support', 'software installation', 'compatibility issues']",
         "False",
         "Unhappy",
         "Customer was unable to install the latest version of the software on his older computer.",
         "The customer's computer did not meet the minimum system requirements for the latest software version.",
         "Agent advised the customer that the software was incompatible with his system and recommended upgrading his hardware or using an older software version. Offered a partial refund since full functionality wasn't available."
        ],
        [
         "2",
         "jane.doe@company.com",
         "['account creation', 'profile settings', 'security concerns']",
         "True",
         "Happy",
         "Customer had difficulty setting up her account and understanding the profile settings.",
         "The user interface was not intuitive enough for new users.",
         "The agent walked the customer through the account creation process and explained the profile settings in detail. The agent also addressed her security concerns and provided tips for protecting her account."
        ],
        [
         "3",
         "peter.pan@neverland.com",
         "['feature request', 'product feedback', 'usability issues']",
         "False",
         "Neutral",
         "Customer wanted to suggest a new feature and provide feedback on the product's usability.",
         "Customer felt the current workflow was inefficient.",
         "The agent thanked the customer for his feedback and assured him that his suggestions would be forwarded to the product development team.  Agent offered a small credit as a thank you for the feedback."
        ],
        [
         "4",
         "wendy.darling@neverland.com",
         "['payment issues', 'invoice details', 'incorrect charges']",
         "True",
         "Happy",
         "Customer noticed incorrect charges on her invoice.",
         "The system had incorrectly applied a surcharge.",
         "The agent investigated the issue, identified the error, and corrected the invoice.  The agent apologized for the inconvenience and provided a detailed explanation of the changes. Also offered a small discount for next month's bill."
        ],
        [
         "5",
         "tinkerbell@neverland.com",
         "['website navigation', 'search functionality', 'missing information']",
         "True",
         "Neutral",
         "Customer was having trouble finding specific information on the website.",
         "The website's navigation was not user-friendly.",
         "The agent guided the customer through the website and helped her find the information she needed. The agent also provided feedback to the web development team regarding the navigation issues."
        ],
        [
         "6",
         "captain.hook@neverland.com",
         "['data migration', 'import errors', 'technical difficulties']",
         "False",
         "Unhappy",
         "Customer was experiencing issues with data migration and import errors.",
         "The customer's data was not formatted correctly.",
         "The agent provided the customer with detailed instructions on how to format his data correctly. However, the issue remained unresolved due to the customer's technical limitations. Escalated to a senior technician."
        ],
        [
         "7",
         "smee@neverland.com",
         "['accessibility issues', 'screen reader compatibility', 'visual impairments']",
         "True",
         "Happy",
         "Customer was having difficulty using the product with a screen reader.",
         "The product was not fully compliant with accessibility standards.",
         "The agent provided the customer with workarounds and alternative methods for using the product with a screen reader. The agent also reported the accessibility issues to the development team for further investigation."
        ],
        [
         "8",
         "tiger.lily@neverland.com",
         "['software updates', 'installation problems', 'security patches']",
         "True",
         "Neutral",
         "Customer was having trouble installing the latest software update.",
         "The customer's firewall was blocking the update process.",
         "The agent walked the customer through the process of disabling his firewall temporarily and installing the update. The agent also provided information on how to configure his firewall to allow future updates."
        ],
        [
         "9",
         "harry.potter@hogwarts.ac.uk",
         "['account access', 'forgotten password', 'two-factor authentication']",
         "True",
         "Happy",
         "Customer locked himself out of his account after failing two-factor authentication.",
         "Customer's mobile device was out of battery.",
         "Agent verified customer's identity and provided a temporary recovery code. Customer was able to regain access to his account."
        ],
        [
         "10",
         "hermione.granger@hogwarts.ac.uk",
         "['data backup', 'cloud storage', 'file recovery']",
         "True",
         "Happy",
         "Customer accidentally deleted important files from her cloud storage.",
         "User error.",
         "Agent guided the customer through the file recovery process. All files were successfully restored."
        ],
        [
         "11",
         "ron.weasley@hogwarts.ac.uk",
         "['payment gateway', 'transaction failure', 'billing disputes']",
         "False",
         "Unhappy",
         "Customer's payment failed, and he was unable to complete a purchase.",
         "Payment gateway experienced a temporary outage.",
         "Agent advised the customer to try again later. The issue was escalated to the payment gateway provider. Customer remained unhappy due to the inconvenience."
        ],
        [
         "12",
         "albus.dumbledore@hogwarts.ac.uk",
         "['server downtime', 'service interruption', 'performance issues']",
         "True",
         "Neutral",
         "Customer reported a temporary service interruption.",
         "Scheduled server maintenance.",
         "Agent explained the reason for the interruption and informed the customer that the service was restored. Provided a small service credit as compensation."
        ],
        [
         "13",
         "severus.snape@hogwarts.ac.uk",
         "['software bug', 'error message', 'program crash']",
         "False",
         "Unhappy",
         "Customer encountered a software bug that caused the program to crash.",
         "Unknown software defect.",
         "Agent collected detailed information about the bug and reported it to the development team. No immediate solution was available."
        ],
        [
         "14",
         "minerva.mcgonagall@hogwarts.ac.uk",
         "['user interface', 'navigation issues', 'design feedback']",
         "True",
         "Neutral",
         "Customer found the user interface confusing and difficult to navigate.",
         "Poor design choices.",
         "Agent thanked the customer for her feedback and assured her that her suggestions would be considered in future design updates. Provided a temporary guide to the UI."
        ],
        [
         "15",
         "voldemort@evil.com",
         "['security breach', 'account compromise', 'unauthorized access']",
         "False",
         "Unhappy",
         "Customer suspected his account was compromised.",
         "Possible phishing attack.",
         "Agent initiated a security investigation and locked the customer's account. The customer was advised to change his password and monitor his account activity. Still investigating."
        ],
        [
         "16",
         "john.davis@email.com",
         "['login issues', 'password reset', 'browser troubleshooting', 'multi-factor authentication']",
         "True",
         "Happy",
         "Customer was unable to log into his SparkleNet account despite resetting his password.",
         "The password reset was not fully processed on the system due to a temporary glitch.",
         "The customer support agent manually triggered a new password reset, and the customer was able to log in after resetting his password. The agent also provided information about multi-factor authentication."
        ],
        [
         "17",
         "bellatrix.lestrange@evil.com",
         "['premium features', 'subscription benefits', 'upgrade options']",
         "True",
         "Happy",
         "Customer wanted to learn more about the premium features and upgrade options.",
         "Customer was unaware of all available features.",
         "Agent explained the benefits of the premium features and guided the customer through the upgrade process. The customer successfully upgraded his account."
        ],
        [
         "18",
         "lucius.malfoy@evil.com",
         "['data privacy', 'gdpr compliance', 'data deletion']",
         "True",
         "Neutral",
         "Customer requested to have his data deleted in compliance with GDPR.",
         "Customer's right to be forgotten.",
         "Agent verified the customer's identity and initiated the data deletion process. The customer was informed that his data would be permanently removed from the system within a specified timeframe."
        ],
        [
         "19",
         "dolores.umbridge@evil.com",
         "['terms of service', 'acceptable use policy', 'content moderation']",
         "True",
         "Unhappy",
         "Customer complained about content moderation policies.",
         "Customer disagreed with content removal decisions.",
         "Agent explained the terms of service and acceptable use policy. The customer's complaint was reviewed, and the initial decision was upheld. The customer remained unhappy."
        ],
        [
         "20",
         "frodo.baggins@shire.net",
         "['order tracking', 'shipping status', 'delivery issues']",
         "True",
         "Happy",
         "Customer inquired about the status of his order.",
         "Delayed shipping due to inclement weather.",
         "Agent provided the customer with the latest tracking information and explained the reason for the delay. The customer was satisfied with the explanation."
        ],
        [
         "21",
         "samwise.gamgee@shire.net",
         "['returns policy', 'exchange process', 'damaged goods']",
         "True",
         "Neutral",
         "Customer received a damaged product and wanted to initiate a return.",
         "Damaged during shipping.",
         "Agent explained the returns policy and guided the customer through the exchange process. A replacement product was shipped immediately."
        ],
        [
         "22",
         "merry.brandybuck@shire.net",
         "['referral program', 'reward points', 'account balance']",
         "True",
         "Happy",
         "Customer inquired about his referral program rewards.",
         "Customer was unaware of his reward points balance.",
         "Agent explained the referral program and informed the customer about his current reward points balance. The customer was able to redeem his points for a discount."
        ],
        [
         "23",
         "pippin.took@shire.net",
         "['coupon codes', 'discount offers', 'promotional campaigns']",
         "True",
         "Happy",
         "Customer requested a coupon code for his purchase.",
         "Customer was eligible for a promotional discount.",
         "Agent provided the customer with a valid coupon code. The customer was able to apply the discount to his order."
        ],
        [
         "24",
         "aragorn@gondor.gov",
         "['bulk discounts', 'enterprise solutions', 'custom pricing']",
         "False",
         "Neutral",
         "Customer inquired about bulk discounts and enterprise solutions for his organization.",
         "Customer was evaluating different vendor options.",
         "Agent provided the customer with detailed information about bulk discounts and enterprise solutions. The customer was referred to a sales representative for further assistance. Awaiting response from sales."
        ],
        [
         "25",
         "legolas@mirkwood.elf",
         "['technical specifications', 'product compatibility', 'hardware requirements']",
         "True",
         "Happy",
         "Customer wanted to verify the technical specifications and compatibility of a product.",
         "Customer was unsure if the product would meet his needs.",
         "Agent provided the customer with the requested technical specifications and confirmed the product's compatibility with his existing hardware. The customer was satisfied with the information."
        ],
        [
         "26",
         "gimli@erebor.dwarf",
         "['international shipping', 'customs duties', 'import regulations']",
         "True",
         "Neutral",
         "Customer inquired about international shipping options and customs duties.",
         "Customer was unfamiliar with international shipping procedures.",
         "Agent provided the customer with information about international shipping options and estimated customs duties. The customer was advised to consult with his local customs office for further details."
        ],
        [
         "27",
         "gandalf@middleearth.org",
         "['future updates', 'roadmap', 'new features']",
         "True",
         "Happy",
         "Customer wanted to know about the company's future plans and upcoming features.",
         "Customer was interested in the product's long-term development.",
         "Agent shared a high-level overview of the company's product roadmap and highlighted some of the upcoming features. The customer was excited about the future of the product."
        ],
        [
         "28",
         "thorin.oakenshield@erebor.dwarf",
         "['warranty claim', 'repair process', 'product defect']",
         "True",
         "Neutral",
         "Customer wanted to file a warranty claim for a defective product.",
         "Manufacturing defect.",
         "Agent verified the customer's warranty eligibility and guided him through the claim process. A replacement product was shipped upon receipt of the defective item."
        ],
        [
         "29",
         "scarlett.ohara@atlanta.ga",
         "['account recovery', 'security questions', 'lost password']",
         "True",
         "Happy",
         "Customer forgot her password and was unable to log in.",
         "Forgotten password.",
         "Agent verified the customer's identity using security questions and initiated the password reset process. The customer was able to regain access to her account."
        ],
        [
         "30",
         "rhett.butler@atlanta.ga",
         "['payment options', 'credit card issues', 'billing address']",
         "True",
         "Neutral",
         "Customer's credit card was declined, and he was unable to complete his payment.",
         "Incorrect billing address.",
         "Agent helped the customer update his billing address. The payment was successfully processed after updating the information."
        ],
        [
         "31",
         "melanie.hamilton@atlanta.ga",
         "['customer support', 'response time', 'service quality']",
         "True",
         "Happy",
         "Customer wanted to provide positive feedback about her customer support experience.",
         "Exceptional customer service.",
         "Agent thanked the customer for her positive feedback and assured her that her appreciation would be shared with the team. Agent earned a gold star."
        ],
        [
         "32",
         "ashley.wilkes@atlanta.ga",
         "['tutorial videos', 'help center', 'knowledge base']",
         "True",
         "Neutral",
         "Customer was looking for tutorial videos and documentation to learn how to use a specific feature.",
         "Customer needed guidance on using the software.",
         "Agent directed the customer to the help center and knowledge base, which contained a comprehensive collection of tutorial videos and documentation."
        ],
        [
         "33",
         "mammy@atlanta.ga",
         "['language support', 'multilingual options', 'translation issues']",
         "True",
         "Happy",
         "Customer wanted to know if the software supported her native language.",
         "Customer preferred to use the software in her native language.",
         "Agent confirmed that the software supported the customer's native language and guided her through the process of changing the language settings."
        ],
        [
         "34",
         "bart.simpson@springfield.us",
         "['bug report', 'game glitch', 'technical issue']",
         "False",
         "Unhappy",
         "Customer reported a glitch in the online game.",
         "Unidentified software issue.",
         "Agent recorded the details of the bug report and escalated it to the development team. No immediate resolution."
        ],
        [
         "35",
         "lisa.simpson@springfield.us",
         "['educational resources', 'learning materials', 'online courses']",
         "True",
         "Happy",
         "Customer wanted to find educational resources and online courses related to a specific subject.",
         "Customer wanted to expand her knowledge.",
         "Agent provided the customer with links to relevant educational resources and online courses offered by the company. The customer was excited to start learning."
        ],
        [
         "36",
         "homer.simpson@springfield.us",
         "['loyalty program', 'member benefits', 'reward redemption']",
         "True",
         "Happy",
         "Customer wanted to redeem his loyalty points for a free donut.",
         "Customer was eligible for a free donut.",
         "Agent helped the customer redeem his loyalty points for a free donut. The customer was very satisfied."
        ],
        [
         "37",
         "marge.simpson@springfield.us",
         "['community forum', 'online support', 'peer-to-peer assistance']",
         "True",
         "Neutral",
         "Customer was looking for help from other users in the community forum.",
         "Customer preferred peer-to-peer support.",
         "Agent directed the customer to the community forum and explained how to post a question and interact with other users."
        ],
        [
         "38",
         "milhouse.vanhouten@springfield.us",
         "['parental controls', 'content filtering', 'child safety']",
         "True",
         "Happy",
         "Customer wanted to set up parental controls to protect his child.",
         "Concern for child's online safety.",
         "Agent guided the customer through the process of setting up parental controls and content filtering. The customer was relieved to know that his child would be safer online."
        ],
        [
         "39",
         "luke.skywalker@tatooine.galaxy",
         "['product launch', 'pre-order', 'new release']",
         "True",
         "Happy",
         "Customer wanted to pre-order the new X-Wing Fighter.",
         "Customer wanted to secure the product early.",
         "Agent assisted the customer with placing a pre-order for the new X-Wing Fighter. He was assured of early delivery."
        ],
        [
         "40",
         "darth.vader@deathstar.galaxy",
         "['data encryption', 'security protocols', 'confidentiality']",
         "True",
         "Neutral",
         "Customer inquired about the data encryption and security protocols used by the company.",
         "Customer had security concerns.",
         "Agent explained the company's data encryption and security protocols. The customer seemed satisfied."
        ],
        [
         "41",
         "princess.leia@alderaan.galaxy",
         "['digital signature', 'authentication', 'user verification']",
         "True",
         "Happy",
         "Customer had trouble setting up her digital signature.",
         "Customer was unfamiliar with the process.",
         "Agent walked the customer through the digital signature setup process. Customer was able to digitally sign her documents."
        ],
        [
         "42",
         "han.solo@falcon.galaxy",
         "['payment schedule', 'instalment plans', 'flexible payments']",
         "True",
         "Happy",
         "Customer wanted to inquire about installment payment plans for the Millennium Falcon.",
         "High cost of product.",
         "Agent explained the available installment payment plans. The customer selected a suitable plan and was able to purchase the Millennium Falcon."
        ],
        [
         "43",
         "yoda@dagobah.galaxy",
         "['knowledge sharing', 'best practices', 'expert advice']",
         "True",
         "Happy",
         "Customer sought advice on using The Force with the product.",
         "Customer sought guidance.",
         "Agent provided guidance on using the Force effectively with the product. The customer achieved enlightenment."
        ],
        [
         "44",
         "john.smith@example.com",
         "['account merging', 'duplicate accounts', 'data consolidation']",
         "True",
         "Happy",
         "Customer had two separate accounts and wanted them merged.",
         "Customer accidentally created two accounts.",
         "Agent verified customer identity and successfully merged the two accounts."
        ],
        [
         "45",
         "emily.wilson@example.net",
         "['mobile app', 'android compatibility', 'ios version']",
         "True",
         "Happy",
         "Customer was having trouble downloading the mobile app on her Android device.",
         "Customer's Android version was outdated.",
         "Agent guided customer through updating her Android operating system, allowing her to download the app."
        ],
        [
         "46",
         "david.brown@example.org",
         "['api documentation', 'integration', 'developer support']",
         "False",
         "Unhappy",
         "Customer was unable to integrate the product's API with his existing system.",
         "Complex API structure and lack of clear documentation.",
         "Agent provided the customer with the API documentation but was unable to resolve the issue. Escalated to the developer support team."
        ],
        [
         "47",
         "sarah.jones@example.co.uk",
         "['security settings', 'privacy policies', 'data protection']",
         "True",
         "Neutral",
         "Customer wanted to understand the product's security settings and privacy policies.",
         "Customer was concerned about data privacy.",
         "Agent explained the security settings and privacy policies in detail, addressing all of the customer's concerns."
        ],
        [
         "48",
         "michael.davis@example.de",
         "['time zone settings', 'scheduling', 'meeting reminders']",
         "True",
         "Happy",
         "Customer was having trouble setting up the correct time zone in the scheduling feature.",
         "Customer was unfamiliar with the time zone options.",
         "Agent guided the customer through the time zone settings, resolving the issue and ensuring accurate meeting reminders."
        ],
        [
         "49",
         "linda.garcia@example.es",
         "['user permissions', 'access levels', 'role management']",
         "True",
         "Happy",
         "Customer needed assistance with setting up different user permissions and access levels.",
         "Customer was managing a team and needed to control access.",
         "Agent provided step-by-step instructions on how to manage user permissions and access levels, enabling the customer to effectively manage her team."
        ]
       ],
       "shape": {
        "columns": 7,
        "rows": 117
       }
      },
      "text/html": [
       "<div>\n",
       "<style scoped>\n",
       "    .dataframe tbody tr th:only-of-type {\n",
       "        vertical-align: middle;\n",
       "    }\n",
       "\n",
       "    .dataframe tbody tr th {\n",
       "        vertical-align: top;\n",
       "    }\n",
       "\n",
       "    .dataframe thead th {\n",
       "        text-align: right;\n",
       "    }\n",
       "</style>\n",
       "<table border=\"1\" class=\"dataframe\">\n",
       "  <thead>\n",
       "    <tr style=\"text-align: right;\">\n",
       "      <th></th>\n",
       "      <th>customer_email</th>\n",
       "      <th>topics_discussed</th>\n",
       "      <th>resolved</th>\n",
       "      <th>sentiment</th>\n",
       "      <th>problem</th>\n",
       "      <th>root_cause</th>\n",
       "      <th>solution</th>\n",
       "    </tr>\n",
       "  </thead>\n",
       "  <tbody>\n",
       "    <tr>\n",
       "      <th>0</th>\n",
       "      <td>alice.smith@email.net</td>\n",
       "      <td>[billing inquiry, subscription cancellation, r...</td>\n",
       "      <td>True</td>\n",
       "      <td>Neutral</td>\n",
       "      <td>Customer wanted to cancel her subscription and...</td>\n",
       "      <td>Customer was unhappy with the new features and...</td>\n",
       "      <td>Agent cancelled the subscription effective imm...</td>\n",
       "    </tr>\n",
       "    <tr>\n",
       "      <th>1</th>\n",
       "      <td>bob.jones@example.org</td>\n",
       "      <td>[technical support, software installation, com...</td>\n",
       "      <td>False</td>\n",
       "      <td>Unhappy</td>\n",
       "      <td>Customer was unable to install the latest vers...</td>\n",
       "      <td>The customer's computer did not meet the minim...</td>\n",
       "      <td>Agent advised the customer that the software w...</td>\n",
       "    </tr>\n",
       "    <tr>\n",
       "      <th>2</th>\n",
       "      <td>jane.doe@company.com</td>\n",
       "      <td>[account creation, profile settings, security ...</td>\n",
       "      <td>True</td>\n",
       "      <td>Happy</td>\n",
       "      <td>Customer had difficulty setting up her account...</td>\n",
       "      <td>The user interface was not intuitive enough fo...</td>\n",
       "      <td>The agent walked the customer through the acco...</td>\n",
       "    </tr>\n",
       "    <tr>\n",
       "      <th>3</th>\n",
       "      <td>peter.pan@neverland.com</td>\n",
       "      <td>[feature request, product feedback, usability ...</td>\n",
       "      <td>False</td>\n",
       "      <td>Neutral</td>\n",
       "      <td>Customer wanted to suggest a new feature and p...</td>\n",
       "      <td>Customer felt the current workflow was ineffic...</td>\n",
       "      <td>The agent thanked the customer for his feedbac...</td>\n",
       "    </tr>\n",
       "    <tr>\n",
       "      <th>4</th>\n",
       "      <td>wendy.darling@neverland.com</td>\n",
       "      <td>[payment issues, invoice details, incorrect ch...</td>\n",
       "      <td>True</td>\n",
       "      <td>Happy</td>\n",
       "      <td>Customer noticed incorrect charges on her invo...</td>\n",
       "      <td>The system had incorrectly applied a surcharge.</td>\n",
       "      <td>The agent investigated the issue, identified t...</td>\n",
       "    </tr>\n",
       "    <tr>\n",
       "      <th>...</th>\n",
       "      <td>...</td>\n",
       "      <td>...</td>\n",
       "      <td>...</td>\n",
       "      <td>...</td>\n",
       "      <td>...</td>\n",
       "      <td>...</td>\n",
       "      <td>...</td>\n",
       "    </tr>\n",
       "    <tr>\n",
       "      <th>112</th>\n",
       "      <td>henry.moore@creative.com</td>\n",
       "      <td>[creative cloud, application compatibility, fi...</td>\n",
       "      <td>False</td>\n",
       "      <td>Unhappy</td>\n",
       "      <td>Customer experienced issues with syncing files...</td>\n",
       "      <td>Network connectivity problems and application ...</td>\n",
       "      <td>Agent troubleshooted basic network settings an...</td>\n",
       "    </tr>\n",
       "    <tr>\n",
       "      <th>113</th>\n",
       "      <td>georgia.okeefe@creative.com</td>\n",
       "      <td>[adobe photoshop, image editing, tool function...</td>\n",
       "      <td>True</td>\n",
       "      <td>Happy</td>\n",
       "      <td>Customer had difficulty understanding a specif...</td>\n",
       "      <td>The tool was not intuitive for new users.</td>\n",
       "      <td>Agent provided a detailed explanation of the t...</td>\n",
       "    </tr>\n",
       "    <tr>\n",
       "      <th>114</th>\n",
       "      <td>salvador.dali@creative.com</td>\n",
       "      <td>[adobe illustrator, vector graphics, performan...</td>\n",
       "      <td>True</td>\n",
       "      <td>Neutral</td>\n",
       "      <td>Customer experienced performance issues and la...</td>\n",
       "      <td>Insufficient system resources and large file s...</td>\n",
       "      <td>Agent recommended upgrading system resources a...</td>\n",
       "    </tr>\n",
       "    <tr>\n",
       "      <th>115</th>\n",
       "      <td>pablo.picasso@creative.com</td>\n",
       "      <td>[adobe premiere pro, video editing, export set...</td>\n",
       "      <td>True</td>\n",
       "      <td>Happy</td>\n",
       "      <td>Customer needed assistance with choosing the o...</td>\n",
       "      <td>Customer was unsure of the different codecs an...</td>\n",
       "      <td>Agent guided the customer through various expo...</td>\n",
       "    </tr>\n",
       "    <tr>\n",
       "      <th>116</th>\n",
       "      <td>fridakahlo@creative.com</td>\n",
       "      <td>[adobe after effects, motion graphics, renderi...</td>\n",
       "      <td>False</td>\n",
       "      <td>Unhappy</td>\n",
       "      <td>Customer encountered rendering issues while cr...</td>\n",
       "      <td>Complex composition and unsupported plugins.</td>\n",
       "      <td>Agent identified that unsupported plugins were...</td>\n",
       "    </tr>\n",
       "  </tbody>\n",
       "</table>\n",
       "<p>117 rows × 7 columns</p>\n",
       "</div>"
      ],
      "text/plain": [
       "                  customer_email  \\\n",
       "0          alice.smith@email.net   \n",
       "1          bob.jones@example.org   \n",
       "2           jane.doe@company.com   \n",
       "3        peter.pan@neverland.com   \n",
       "4    wendy.darling@neverland.com   \n",
       "..                           ...   \n",
       "112     henry.moore@creative.com   \n",
       "113  georgia.okeefe@creative.com   \n",
       "114   salvador.dali@creative.com   \n",
       "115   pablo.picasso@creative.com   \n",
       "116      fridakahlo@creative.com   \n",
       "\n",
       "                                      topics_discussed  resolved sentiment  \\\n",
       "0    [billing inquiry, subscription cancellation, r...      True   Neutral   \n",
       "1    [technical support, software installation, com...     False   Unhappy   \n",
       "2    [account creation, profile settings, security ...      True     Happy   \n",
       "3    [feature request, product feedback, usability ...     False   Neutral   \n",
       "4    [payment issues, invoice details, incorrect ch...      True     Happy   \n",
       "..                                                 ...       ...       ...   \n",
       "112  [creative cloud, application compatibility, fi...     False   Unhappy   \n",
       "113  [adobe photoshop, image editing, tool function...      True     Happy   \n",
       "114  [adobe illustrator, vector graphics, performan...      True   Neutral   \n",
       "115  [adobe premiere pro, video editing, export set...      True     Happy   \n",
       "116  [adobe after effects, motion graphics, renderi...     False   Unhappy   \n",
       "\n",
       "                                               problem  \\\n",
       "0    Customer wanted to cancel her subscription and...   \n",
       "1    Customer was unable to install the latest vers...   \n",
       "2    Customer had difficulty setting up her account...   \n",
       "3    Customer wanted to suggest a new feature and p...   \n",
       "4    Customer noticed incorrect charges on her invo...   \n",
       "..                                                 ...   \n",
       "112  Customer experienced issues with syncing files...   \n",
       "113  Customer had difficulty understanding a specif...   \n",
       "114  Customer experienced performance issues and la...   \n",
       "115  Customer needed assistance with choosing the o...   \n",
       "116  Customer encountered rendering issues while cr...   \n",
       "\n",
       "                                            root_cause  \\\n",
       "0    Customer was unhappy with the new features and...   \n",
       "1    The customer's computer did not meet the minim...   \n",
       "2    The user interface was not intuitive enough fo...   \n",
       "3    Customer felt the current workflow was ineffic...   \n",
       "4      The system had incorrectly applied a surcharge.   \n",
       "..                                                 ...   \n",
       "112  Network connectivity problems and application ...   \n",
       "113          The tool was not intuitive for new users.   \n",
       "114  Insufficient system resources and large file s...   \n",
       "115  Customer was unsure of the different codecs an...   \n",
       "116       Complex composition and unsupported plugins.   \n",
       "\n",
       "                                              solution  \n",
       "0    Agent cancelled the subscription effective imm...  \n",
       "1    Agent advised the customer that the software w...  \n",
       "2    The agent walked the customer through the acco...  \n",
       "3    The agent thanked the customer for his feedbac...  \n",
       "4    The agent investigated the issue, identified t...  \n",
       "..                                                 ...  \n",
       "112  Agent troubleshooted basic network settings an...  \n",
       "113  Agent provided a detailed explanation of the t...  \n",
       "114  Agent recommended upgrading system resources a...  \n",
       "115  Agent guided the customer through various expo...  \n",
       "116  Agent identified that unsupported plugins were...  \n",
       "\n",
       "[117 rows x 7 columns]"
      ]
     },
     "execution_count": 21,
     "metadata": {},
     "output_type": "execute_result"
    }
   ],
   "source": [
    "import pandas as pd\n",
    "pd.read_json(\"../data/customer_service_call_reports.json\")"
   ]
  }
 ],
 "metadata": {
  "kernelspec": {
   "display_name": ".venv",
   "language": "python",
   "name": "python3"
  },
  "language_info": {
   "codemirror_mode": {
    "name": "ipython",
    "version": 3
   },
   "file_extension": ".py",
   "mimetype": "text/x-python",
   "name": "python",
   "nbconvert_exporter": "python",
   "pygments_lexer": "ipython3",
   "version": "3.13.1"
  }
 },
 "nbformat": 4,
 "nbformat_minor": 2
}
