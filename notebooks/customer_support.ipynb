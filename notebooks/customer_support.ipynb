{
 "cells": [
  {
   "cell_type": "code",
   "execution_count": null,
   "metadata": {},
   "outputs": [],
   "source": [
    "from google import genai\n",
    "from google.genai import types\n",
    "from pydantic import BaseModel\n",
    "from typing import Literal\n",
    "from pathlib import Path"
   ]
  },
  {
   "cell_type": "code",
   "execution_count": 3,
   "metadata": {},
   "outputs": [],
   "source": [
    "client = genai.Client(\n",
    "    vertexai=True,\n",
    "    location='europe-west4'\n",
    ")"
   ]
  },
  {
   "cell_type": "code",
   "execution_count": 4,
   "metadata": {},
   "outputs": [],
   "source": [
    "audio_path = Path(\"../data/customer_support_call.m4a\")\n",
    "\n",
    "audio = types.Part.from_bytes(\n",
    "    data=audio_path.read_bytes(),\n",
    "    mime_type=\"audio/x-m4a\"\n",
    ")"
   ]
  },
  {
   "cell_type": "code",
   "execution_count": 27,
   "metadata": {},
   "outputs": [
    {
     "data": {
      "text/plain": [
       "CallSummary(customer_email='john.davis@email.com', topics_discussed=['Login issues', 'Password reset', 'Browser troubleshooting', 'Multi-factor authentication (MFA)'], problem_description='Customer is unable to log in to their SparkleNet account despite resetting their password and being sure they are using the correct credentials.', root_cause='The password reset from the previous day was not fully processed due to a temporary glitch in the system.', solution='The customer support agent manually triggered a new password reset. The customer received an email with a link to create a new password and was able to log in after resetting it.', problem_resolved=True, customer_happiness='Happy')"
      ]
     },
     "execution_count": 27,
     "metadata": {},
     "output_type": "execute_result"
    }
   ],
   "source": [
    "class CallSummary(BaseModel):\n",
    "    customer_email: str\n",
    "    topics_discussed: list[str]\n",
    "    problem_description: str\n",
    "    root_cause: str\n",
    "    solution: str\n",
    "    problem_resolved: bool\n",
    "    customer_happiness: Literal[\n",
    "        \"Unhappy\",\n",
    "        \"Neutral\",\n",
    "        \"Happy\",\n",
    "    ]\n",
    "\n",
    "response = client.models.generate_content(\n",
    "    model='gemini-2.0-flash-001',\n",
    "    contents=[\n",
    "        \"Find below a SparkleNet Customer Support conversation.\",\n",
    "        audio,\n",
    "    ],\n",
    "    config=types.GenerateContentConfig(\n",
    "        temperature=0.2,\n",
    "        response_mime_type='application/json',\n",
    "        response_schema=CallSummary,\n",
    "    ),\n",
    ")   \n",
    "call_summary: CallSummary = response.parsed\n",
    "call_summary"
   ]
  },
  {
   "cell_type": "code",
   "execution_count": 28,
   "metadata": {},
   "outputs": [
    {
     "name": "stdout",
     "output_type": "stream",
     "text": [
      "{\n",
      "  \"customer_email\": \"john.davis@email.com\",\n",
      "  \"topics_discussed\": [\n",
      "    \"Login issues\",\n",
      "    \"Password reset\",\n",
      "    \"Browser troubleshooting\",\n",
      "    \"Multi-factor authentication (MFA)\"\n",
      "  ],\n",
      "  \"problem_description\": \"Customer is unable to log in to their SparkleNet account despite resetting their password and being sure they are using the correct credentials.\",\n",
      "  \"root_cause\": \"The password reset from the previous day was not fully processed due to a temporary glitch in the system.\",\n",
      "  \"solution\": \"The customer support agent manually triggered a new password reset. The customer received an email with a link to create a new password and was able to log in after resetting it.\",\n",
      "  \"problem_resolved\": true,\n",
      "  \"customer_happiness\": \"Happy\"\n",
      "}\n"
     ]
    }
   ],
   "source": [
    "print(call_summary.model_dump_json(indent=2))"
   ]
  },
  {
   "cell_type": "markdown",
   "metadata": {},
   "source": [
    "## Cost estimates"
   ]
  },
  {
   "cell_type": "code",
   "execution_count": 19,
   "metadata": {},
   "outputs": [
    {
     "data": {
      "text/plain": [
       "0.008323"
      ]
     },
     "execution_count": 19,
     "metadata": {},
     "output_type": "execute_result"
    }
   ],
   "source": [
    "response.usage_metadata.total_token_count \\\n",
    "/ 1_000_000 \\\n",
    "* 1.00"
   ]
  }
 ],
 "metadata": {
  "kernelspec": {
   "display_name": ".venv",
   "language": "python",
   "name": "python3"
  },
  "language_info": {
   "codemirror_mode": {
    "name": "ipython",
    "version": 3
   },
   "file_extension": ".py",
   "mimetype": "text/x-python",
   "name": "python",
   "nbconvert_exporter": "python",
   "pygments_lexer": "ipython3",
   "version": "3.13.1"
  }
 },
 "nbformat": 4,
 "nbformat_minor": 2
}
